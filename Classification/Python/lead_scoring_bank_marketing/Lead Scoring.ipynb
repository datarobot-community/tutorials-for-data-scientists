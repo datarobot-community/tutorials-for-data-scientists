{
 "cells": [
  {
   "cell_type": "markdown",
   "metadata": {},
   "source": [
    "## Lead Scoring\n",
    "**Authors**: Emily Webber & Thodoris Petropoulus"
   ]
  },
  {
   "cell_type": "markdown",
   "metadata": {},
   "source": [
    "In this exercise we are going to use a strategy called “lead scoring” to predict the probability that a prospect will become a customer. To achieve this, we are going to use binary classification.\n",
    "\n",
    "**There are a few things that you need for this exercise:** \n",
    "\n",
    "1. Your DataRobot login \n",
    "2. Your DataRobot API key\n",
    "3. The exercise dataset:  bank-full.csv\n",
    "\n",
    "## Credentials\n",
    "To access the DataRobot API user need to connect to it. To make sure authorize users are accessing the DataRobot API user need to use their username, password or API token. You also need to ensure your \"API Access\" configuration is ON (please ask your administrator if not).\n",
    "\n",
    "To find your API Token, visit YOUR_API_HOST, log in and look under **Developer Tools** (under the person icon).\n",
    "\n",
    "\n",
    "## Import Library and Enter Credentials\n",
    "\n",
    "You must import the appropriate libaries and enter your credentials to connect with DataRobot"
   ]
  },
  {
   "cell_type": "code",
   "execution_count": 41,
   "metadata": {},
   "outputs": [],
   "source": [
    "import datarobot as dr\n",
    "import pandas as pd\n",
    "import seaborn as sns\n",
    "import matplotlib.pyplot as plt"
   ]
  },
  {
   "cell_type": "code",
   "execution_count": null,
   "metadata": {},
   "outputs": [],
   "source": [
    "token = 'YOUR_TOKEN'\n",
    "endpoint = 'YOUR_DR_URL/api/v2'\n",
    "\n",
    "dr.Client(token=token, \n",
    "          endpoint= endpoint)"
   ]
  },
  {
   "cell_type": "markdown",
   "metadata": {},
   "source": [
    "## Dataset\n",
    "\n",
    "The dataset was taken from the UCI Machine Learning Repository. It was published in a paper by Sérgio Moro and colleagues in 2014.\n",
    "\n",
    "*[Moro et al., 2014] S. Moro, P. Cortez and P. Rita. A Data-Driven Approach to Predict the Success of Bank Telemarketing. Decision Support Systems, Elsevier, 62:22-31, June 2014*\n",
    "\n",
    "This dataset includes information from a direct telemarketing campaign of a Portuguese bank. The target is indicated by the feature “**y**” and a “yes” means that the prospect purchased the product being offered and “no” means that they did not.\n",
    "\n",
    "Import Library and Enter Credentials\n",
    "You must import the appropriate libaries and enter your credentials to connect with DataRobot"
   ]
  },
  {
   "cell_type": "code",
   "execution_count": 10,
   "metadata": {},
   "outputs": [
    {
     "data": {
      "text/html": [
       "<div>\n",
       "<style scoped>\n",
       "    .dataframe tbody tr th:only-of-type {\n",
       "        vertical-align: middle;\n",
       "    }\n",
       "\n",
       "    .dataframe tbody tr th {\n",
       "        vertical-align: top;\n",
       "    }\n",
       "\n",
       "    .dataframe thead th {\n",
       "        text-align: right;\n",
       "    }\n",
       "</style>\n",
       "<table border=\"1\" class=\"dataframe\">\n",
       "  <thead>\n",
       "    <tr style=\"text-align: right;\">\n",
       "      <th></th>\n",
       "      <th>age</th>\n",
       "      <th>job</th>\n",
       "      <th>marital</th>\n",
       "      <th>education</th>\n",
       "      <th>default</th>\n",
       "      <th>balance</th>\n",
       "      <th>housing</th>\n",
       "      <th>loan</th>\n",
       "      <th>contact</th>\n",
       "      <th>day</th>\n",
       "      <th>month</th>\n",
       "      <th>duration</th>\n",
       "      <th>campaign</th>\n",
       "      <th>pdays</th>\n",
       "      <th>previous</th>\n",
       "      <th>poutcome</th>\n",
       "      <th>y</th>\n",
       "    </tr>\n",
       "  </thead>\n",
       "  <tbody>\n",
       "    <tr>\n",
       "      <td>0</td>\n",
       "      <td>58</td>\n",
       "      <td>management</td>\n",
       "      <td>married</td>\n",
       "      <td>tertiary</td>\n",
       "      <td>no</td>\n",
       "      <td>2143</td>\n",
       "      <td>yes</td>\n",
       "      <td>no</td>\n",
       "      <td>unknown</td>\n",
       "      <td>5</td>\n",
       "      <td>may</td>\n",
       "      <td>261</td>\n",
       "      <td>1</td>\n",
       "      <td>-1</td>\n",
       "      <td>0</td>\n",
       "      <td>unknown</td>\n",
       "      <td>no</td>\n",
       "    </tr>\n",
       "    <tr>\n",
       "      <td>1</td>\n",
       "      <td>44</td>\n",
       "      <td>technician</td>\n",
       "      <td>single</td>\n",
       "      <td>secondary</td>\n",
       "      <td>no</td>\n",
       "      <td>29</td>\n",
       "      <td>yes</td>\n",
       "      <td>no</td>\n",
       "      <td>unknown</td>\n",
       "      <td>5</td>\n",
       "      <td>may</td>\n",
       "      <td>151</td>\n",
       "      <td>1</td>\n",
       "      <td>-1</td>\n",
       "      <td>0</td>\n",
       "      <td>unknown</td>\n",
       "      <td>no</td>\n",
       "    </tr>\n",
       "    <tr>\n",
       "      <td>2</td>\n",
       "      <td>33</td>\n",
       "      <td>entrepreneur</td>\n",
       "      <td>married</td>\n",
       "      <td>secondary</td>\n",
       "      <td>no</td>\n",
       "      <td>2</td>\n",
       "      <td>yes</td>\n",
       "      <td>yes</td>\n",
       "      <td>unknown</td>\n",
       "      <td>5</td>\n",
       "      <td>may</td>\n",
       "      <td>76</td>\n",
       "      <td>1</td>\n",
       "      <td>-1</td>\n",
       "      <td>0</td>\n",
       "      <td>unknown</td>\n",
       "      <td>no</td>\n",
       "    </tr>\n",
       "    <tr>\n",
       "      <td>3</td>\n",
       "      <td>47</td>\n",
       "      <td>blue-collar</td>\n",
       "      <td>married</td>\n",
       "      <td>unknown</td>\n",
       "      <td>no</td>\n",
       "      <td>1506</td>\n",
       "      <td>yes</td>\n",
       "      <td>no</td>\n",
       "      <td>unknown</td>\n",
       "      <td>5</td>\n",
       "      <td>may</td>\n",
       "      <td>92</td>\n",
       "      <td>1</td>\n",
       "      <td>-1</td>\n",
       "      <td>0</td>\n",
       "      <td>unknown</td>\n",
       "      <td>no</td>\n",
       "    </tr>\n",
       "    <tr>\n",
       "      <td>4</td>\n",
       "      <td>33</td>\n",
       "      <td>unknown</td>\n",
       "      <td>single</td>\n",
       "      <td>unknown</td>\n",
       "      <td>no</td>\n",
       "      <td>1</td>\n",
       "      <td>no</td>\n",
       "      <td>no</td>\n",
       "      <td>unknown</td>\n",
       "      <td>5</td>\n",
       "      <td>may</td>\n",
       "      <td>198</td>\n",
       "      <td>1</td>\n",
       "      <td>-1</td>\n",
       "      <td>0</td>\n",
       "      <td>unknown</td>\n",
       "      <td>no</td>\n",
       "    </tr>\n",
       "  </tbody>\n",
       "</table>\n",
       "</div>"
      ],
      "text/plain": [
       "   age           job  marital  education default  balance housing loan  \\\n",
       "0   58    management  married   tertiary      no     2143     yes   no   \n",
       "1   44    technician   single  secondary      no       29     yes   no   \n",
       "2   33  entrepreneur  married  secondary      no        2     yes  yes   \n",
       "3   47   blue-collar  married    unknown      no     1506     yes   no   \n",
       "4   33       unknown   single    unknown      no        1      no   no   \n",
       "\n",
       "   contact  day month  duration  campaign  pdays  previous poutcome   y  \n",
       "0  unknown    5   may       261         1     -1         0  unknown  no  \n",
       "1  unknown    5   may       151         1     -1         0  unknown  no  \n",
       "2  unknown    5   may        76         1     -1         0  unknown  no  \n",
       "3  unknown    5   may        92         1     -1         0  unknown  no  \n",
       "4  unknown    5   may       198         1     -1         0  unknown  no  "
      ]
     },
     "execution_count": 10,
     "metadata": {},
     "output_type": "execute_result"
    }
   ],
   "source": [
    "df = pd.read_csv('bank-full.csv', sep = \";\")\n",
    "df.head()"
   ]
  },
  {
   "cell_type": "markdown",
   "metadata": {},
   "source": [
    "## Start Project\n",
    "\n",
    "For the setup, start the project with the dataset (**bank-full.csv**) and indicate the target as “**y**”.  Set the mode to \"**quick**\".   \n"
   ]
  },
  {
   "cell_type": "code",
   "execution_count": 17,
   "metadata": {},
   "outputs": [],
   "source": [
    "project = dr.Project.create(project_name='bank-full.csv',\n",
    "                        sourcedata= df)\n"
   ]
  },
  {
   "cell_type": "code",
   "execution_count": null,
   "metadata": {},
   "outputs": [],
   "source": [
    "project.set_target(\n",
    "    target='y',\n",
    "    worker_count = '-1',\n",
    "     mode=dr.AUTOPILOT_MODE.QUICK\n",
    ")\n",
    "\n",
    "project.wait_for_autopilot() #Wait for autopilot to complete"
   ]
  },
  {
   "cell_type": "markdown",
   "metadata": {},
   "source": [
    "It can be onerous to re-run autopilot every time you want to run the script.  If your project is already  created, then you can comment out the previous chunk of code.  This will make sure you do not rerun autopilot.  You can then simply refer to the project using the GetProject function (see code below).  The project id refers to the first number in the URL for the project. \n"
   ]
  },
  {
   "cell_type": "code",
   "execution_count": 19,
   "metadata": {},
   "outputs": [],
   "source": [
    "#project = dr.Project.get(project_id='YOUR_PROJECT_ID')"
   ]
  },
  {
   "cell_type": "markdown",
   "metadata": {},
   "source": [
    "## Select Model to Evaluate\n",
    "\n",
    "You want to select the 80% version of the top model to evaluate.  You can use the code below to select this model. "
   ]
  },
  {
   "cell_type": "code",
   "execution_count": 32,
   "metadata": {},
   "outputs": [],
   "source": [
    "models =project.get_models(\n",
    "    search_params={\n",
    "        'sample_pct__gt': 80,\n",
    "    })"
   ]
  },
  {
   "cell_type": "code",
   "execution_count": 33,
   "metadata": {},
   "outputs": [
    {
     "data": {
      "text/plain": [
       "'5f371ee53b6e1a33dcb6b4b7'"
      ]
     },
     "execution_count": 33,
     "metadata": {},
     "output_type": "execute_result"
    }
   ],
   "source": [
    "model = models[1]\n",
    "model.id\n"
   ]
  },
  {
   "cell_type": "markdown",
   "metadata": {},
   "source": [
    "## Get Validation Scores\n",
    "\n",
    "You can get the validation and cross validation scores for every possible metric of the model using the code below.  This can be pulled for multiple models if you want to compare them programmatically.  \n"
   ]
  },
  {
   "cell_type": "code",
   "execution_count": 38,
   "metadata": {},
   "outputs": [
    {
     "data": {
      "text/plain": [
       "{'AUC': {'backtesting': None,\n",
       "  'holdout': None,\n",
       "  'backtestingScores': None,\n",
       "  'crossValidation': 0.9355399999999999,\n",
       "  'validation': 0.94041},\n",
       " 'Rate@Top5%': {'backtesting': None,\n",
       "  'holdout': None,\n",
       "  'backtestingScores': None,\n",
       "  'crossValidation': 0.7027620000000001,\n",
       "  'validation': 0.74309},\n",
       " 'Max MCC': {'backtesting': None,\n",
       "  'holdout': None,\n",
       "  'backtestingScores': None,\n",
       "  'crossValidation': 0.591086,\n",
       "  'validation': 0.60979},\n",
       " 'RMSE': {'backtesting': None,\n",
       "  'holdout': None,\n",
       "  'backtestingScores': None,\n",
       "  'crossValidation': 0.24907200000000002,\n",
       "  'validation': 0.24416},\n",
       " 'Kolmogorov-Smirnov': {'backtesting': None,\n",
       "  'holdout': None,\n",
       "  'backtestingScores': None,\n",
       "  'crossValidation': 0.748954,\n",
       "  'validation': 0.75366},\n",
       " 'Rate@TopTenth%': {'backtesting': None,\n",
       "  'holdout': None,\n",
       "  'backtestingScores': None,\n",
       "  'crossValidation': 0.875,\n",
       "  'validation': 0.875},\n",
       " 'LogLoss': {'backtesting': None,\n",
       "  'holdout': None,\n",
       "  'backtestingScores': None,\n",
       "  'crossValidation': 0.19676200000000002,\n",
       "  'validation': 0.19012},\n",
       " 'FVE Binomial': {'backtesting': None,\n",
       "  'holdout': None,\n",
       "  'backtestingScores': None,\n",
       "  'crossValidation': 0.4547359999999999,\n",
       "  'validation': 0.47345},\n",
       " 'Gini Norm': {'backtesting': None,\n",
       "  'holdout': None,\n",
       "  'backtestingScores': None,\n",
       "  'crossValidation': 0.8710799999999999,\n",
       "  'validation': 0.88082},\n",
       " 'Rate@Top10%': {'backtesting': None,\n",
       "  'holdout': None,\n",
       "  'backtestingScores': None,\n",
       "  'crossValidation': 0.6309400000000001,\n",
       "  'validation': 0.64503}}"
      ]
     },
     "execution_count": 38,
     "metadata": {},
     "output_type": "execute_result"
    }
   ],
   "source": [
    "model.metrics"
   ]
  },
  {
   "cell_type": "markdown",
   "metadata": {},
   "source": [
    "## Get ROC Curve\n",
    "\n",
    "Now that we know the overall performance of the model, let's take a deeper look at the ROC curve.  You can use the code below to pull the ROC chart from DataRobot and plot it."
   ]
  },
  {
   "cell_type": "code",
   "execution_count": 39,
   "metadata": {},
   "outputs": [
    {
     "data": {
      "text/html": [
       "<div>\n",
       "<style scoped>\n",
       "    .dataframe tbody tr th:only-of-type {\n",
       "        vertical-align: middle;\n",
       "    }\n",
       "\n",
       "    .dataframe tbody tr th {\n",
       "        vertical-align: top;\n",
       "    }\n",
       "\n",
       "    .dataframe thead th {\n",
       "        text-align: right;\n",
       "    }\n",
       "</style>\n",
       "<table border=\"1\" class=\"dataframe\">\n",
       "  <thead>\n",
       "    <tr style=\"text-align: right;\">\n",
       "      <th></th>\n",
       "      <th>accuracy</th>\n",
       "      <th>f1_score</th>\n",
       "      <th>false_negative_score</th>\n",
       "      <th>true_negative_score</th>\n",
       "      <th>true_positive_score</th>\n",
       "      <th>false_positive_score</th>\n",
       "      <th>true_negative_rate</th>\n",
       "      <th>false_positive_rate</th>\n",
       "      <th>true_positive_rate</th>\n",
       "      <th>matthews_correlation_coefficient</th>\n",
       "      <th>positive_predictive_value</th>\n",
       "      <th>negative_predictive_value</th>\n",
       "      <th>threshold</th>\n",
       "      <th>fraction_predicted_as_positive</th>\n",
       "      <th>fraction_predicted_as_negative</th>\n",
       "      <th>lift_positive</th>\n",
       "      <th>lift_negative</th>\n",
       "    </tr>\n",
       "  </thead>\n",
       "  <tbody>\n",
       "    <tr>\n",
       "      <td>0</td>\n",
       "      <td>0.883021</td>\n",
       "      <td>0.000000</td>\n",
       "      <td>4231</td>\n",
       "      <td>31938</td>\n",
       "      <td>0</td>\n",
       "      <td>0</td>\n",
       "      <td>1.000000</td>\n",
       "      <td>0.000000</td>\n",
       "      <td>0.000000</td>\n",
       "      <td>0.000000</td>\n",
       "      <td>0.000000</td>\n",
       "      <td>0.883021</td>\n",
       "      <td>1.000000</td>\n",
       "      <td>0.000000</td>\n",
       "      <td>1.000000</td>\n",
       "      <td>0.000000</td>\n",
       "      <td>1.000000</td>\n",
       "    </tr>\n",
       "    <tr>\n",
       "      <td>1</td>\n",
       "      <td>0.883049</td>\n",
       "      <td>0.000473</td>\n",
       "      <td>4230</td>\n",
       "      <td>31938</td>\n",
       "      <td>1</td>\n",
       "      <td>0</td>\n",
       "      <td>1.000000</td>\n",
       "      <td>0.000000</td>\n",
       "      <td>0.000236</td>\n",
       "      <td>0.014447</td>\n",
       "      <td>1.000000</td>\n",
       "      <td>0.883046</td>\n",
       "      <td>0.980059</td>\n",
       "      <td>0.000028</td>\n",
       "      <td>0.999972</td>\n",
       "      <td>8.548570</td>\n",
       "      <td>1.000028</td>\n",
       "    </tr>\n",
       "    <tr>\n",
       "      <td>2</td>\n",
       "      <td>0.884542</td>\n",
       "      <td>0.029289</td>\n",
       "      <td>4168</td>\n",
       "      <td>31930</td>\n",
       "      <td>63</td>\n",
       "      <td>8</td>\n",
       "      <td>0.999750</td>\n",
       "      <td>0.000250</td>\n",
       "      <td>0.014890</td>\n",
       "      <td>0.106300</td>\n",
       "      <td>0.887324</td>\n",
       "      <td>0.884537</td>\n",
       "      <td>0.930287</td>\n",
       "      <td>0.001963</td>\n",
       "      <td>0.998037</td>\n",
       "      <td>7.585351</td>\n",
       "      <td>1.001716</td>\n",
       "    </tr>\n",
       "    <tr>\n",
       "      <td>3</td>\n",
       "      <td>0.888772</td>\n",
       "      <td>0.110939</td>\n",
       "      <td>3980</td>\n",
       "      <td>31895</td>\n",
       "      <td>251</td>\n",
       "      <td>43</td>\n",
       "      <td>0.998654</td>\n",
       "      <td>0.001346</td>\n",
       "      <td>0.059324</td>\n",
       "      <td>0.207523</td>\n",
       "      <td>0.853741</td>\n",
       "      <td>0.889059</td>\n",
       "      <td>0.875943</td>\n",
       "      <td>0.008129</td>\n",
       "      <td>0.991871</td>\n",
       "      <td>7.298269</td>\n",
       "      <td>1.006838</td>\n",
       "    </tr>\n",
       "    <tr>\n",
       "      <td>4</td>\n",
       "      <td>0.889657</td>\n",
       "      <td>0.131069</td>\n",
       "      <td>3930</td>\n",
       "      <td>31877</td>\n",
       "      <td>301</td>\n",
       "      <td>61</td>\n",
       "      <td>0.998090</td>\n",
       "      <td>0.001910</td>\n",
       "      <td>0.071142</td>\n",
       "      <td>0.223533</td>\n",
       "      <td>0.831492</td>\n",
       "      <td>0.890245</td>\n",
       "      <td>0.862702</td>\n",
       "      <td>0.010009</td>\n",
       "      <td>0.989991</td>\n",
       "      <td>7.108065</td>\n",
       "      <td>1.008180</td>\n",
       "    </tr>\n",
       "  </tbody>\n",
       "</table>\n",
       "</div>"
      ],
      "text/plain": [
       "   accuracy  f1_score  false_negative_score  true_negative_score  \\\n",
       "0  0.883021  0.000000                  4231                31938   \n",
       "1  0.883049  0.000473                  4230                31938   \n",
       "2  0.884542  0.029289                  4168                31930   \n",
       "3  0.888772  0.110939                  3980                31895   \n",
       "4  0.889657  0.131069                  3930                31877   \n",
       "\n",
       "   true_positive_score  false_positive_score  true_negative_rate  \\\n",
       "0                    0                     0            1.000000   \n",
       "1                    1                     0            1.000000   \n",
       "2                   63                     8            0.999750   \n",
       "3                  251                    43            0.998654   \n",
       "4                  301                    61            0.998090   \n",
       "\n",
       "   false_positive_rate  true_positive_rate  matthews_correlation_coefficient  \\\n",
       "0             0.000000            0.000000                          0.000000   \n",
       "1             0.000000            0.000236                          0.014447   \n",
       "2             0.000250            0.014890                          0.106300   \n",
       "3             0.001346            0.059324                          0.207523   \n",
       "4             0.001910            0.071142                          0.223533   \n",
       "\n",
       "   positive_predictive_value  negative_predictive_value  threshold  \\\n",
       "0                   0.000000                   0.883021   1.000000   \n",
       "1                   1.000000                   0.883046   0.980059   \n",
       "2                   0.887324                   0.884537   0.930287   \n",
       "3                   0.853741                   0.889059   0.875943   \n",
       "4                   0.831492                   0.890245   0.862702   \n",
       "\n",
       "   fraction_predicted_as_positive  fraction_predicted_as_negative  \\\n",
       "0                        0.000000                        1.000000   \n",
       "1                        0.000028                        0.999972   \n",
       "2                        0.001963                        0.998037   \n",
       "3                        0.008129                        0.991871   \n",
       "4                        0.010009                        0.989991   \n",
       "\n",
       "   lift_positive  lift_negative  \n",
       "0       0.000000       1.000000  \n",
       "1       8.548570       1.000028  \n",
       "2       7.585351       1.001716  \n",
       "3       7.298269       1.006838  \n",
       "4       7.108065       1.008180  "
      ]
     },
     "execution_count": 39,
     "metadata": {},
     "output_type": "execute_result"
    }
   ],
   "source": [
    "roc = model.get_roc_curve('crossValidation')\n",
    "\n",
    "#Save the result into a pandas dataframe\n",
    "df = pd.DataFrame(roc.roc_points)\n",
    "df.head()"
   ]
  },
  {
   "cell_type": "markdown",
   "metadata": {},
   "source": [
    "## Plot the ROC Curve"
   ]
  },
  {
   "cell_type": "code",
   "execution_count": 42,
   "metadata": {},
   "outputs": [
    {
     "data": {
      "text/plain": [
       "(0, 1)"
      ]
     },
     "execution_count": 42,
     "metadata": {},
     "output_type": "execute_result"
    },
    {
     "data": {
      "image/png": "[encoded data removed]",
      "text/plain": [
       "<Figure size 576x576 with 1 Axes>"
      ]
     },
     "metadata": {
      "needs_background": "light"
     },
     "output_type": "display_data"
    }
   ],
   "source": [
    "dr_roc_green = '#03c75f'\n",
    "white = '#ffffff'\n",
    "dr_purple = '#65147D'\n",
    "dr_dense_green = '#018f4f'\n",
    "dr_dark_blue = '#08233F'\n",
    "\n",
    "fig = plt.figure(figsize=(8, 8))\n",
    "axes = fig.add_subplot(1, 1, 1, facecolor=dr_dark_blue)\n",
    "\n",
    "plt.scatter(df.false_positive_rate, df.true_positive_rate, color=dr_roc_green)\n",
    "plt.plot(df.false_positive_rate, df.true_positive_rate, color=dr_roc_green)\n",
    "plt.plot([0, 1], [0, 1], color=white, alpha=0.25)\n",
    "plt.title('ROC curve')\n",
    "plt.xlabel('False Positive Rate (Fallout)')\n",
    "plt.xlim([0, 1])\n",
    "plt.ylabel('True Positive Rate (Sensitivity)')\n",
    "plt.ylim([0, 1])"
   ]
  },
  {
   "cell_type": "markdown",
   "metadata": {},
   "source": [
    "## Get the Feature Impact\n",
    "\n",
    "Now that we have evaluated our model, let's take a look at which features are having the highest impact. "
   ]
  },
  {
   "cell_type": "code",
   "execution_count": 46,
   "metadata": {},
   "outputs": [
    {
     "data": {
      "text/html": [
       "<div>\n",
       "<style scoped>\n",
       "    .dataframe tbody tr th:only-of-type {\n",
       "        vertical-align: middle;\n",
       "    }\n",
       "\n",
       "    .dataframe tbody tr th {\n",
       "        vertical-align: top;\n",
       "    }\n",
       "\n",
       "    .dataframe thead th {\n",
       "        text-align: right;\n",
       "    }\n",
       "</style>\n",
       "<table border=\"1\" class=\"dataframe\">\n",
       "  <thead>\n",
       "    <tr style=\"text-align: right;\">\n",
       "      <th></th>\n",
       "      <th>redundantWith</th>\n",
       "      <th>featureName</th>\n",
       "      <th>impactNormalized</th>\n",
       "      <th>impactUnnormalized</th>\n",
       "    </tr>\n",
       "  </thead>\n",
       "  <tbody>\n",
       "    <tr>\n",
       "      <td>0</td>\n",
       "      <td>None</td>\n",
       "      <td>duration</td>\n",
       "      <td>1.000000</td>\n",
       "      <td>0.256413</td>\n",
       "    </tr>\n",
       "    <tr>\n",
       "      <td>1</td>\n",
       "      <td>None</td>\n",
       "      <td>month</td>\n",
       "      <td>0.370865</td>\n",
       "      <td>0.095095</td>\n",
       "    </tr>\n",
       "    <tr>\n",
       "      <td>2</td>\n",
       "      <td>None</td>\n",
       "      <td>day</td>\n",
       "      <td>0.186467</td>\n",
       "      <td>0.047813</td>\n",
       "    </tr>\n",
       "    <tr>\n",
       "      <td>3</td>\n",
       "      <td>None</td>\n",
       "      <td>contact</td>\n",
       "      <td>0.116615</td>\n",
       "      <td>0.029902</td>\n",
       "    </tr>\n",
       "    <tr>\n",
       "      <td>4</td>\n",
       "      <td>None</td>\n",
       "      <td>poutcome</td>\n",
       "      <td>0.086397</td>\n",
       "      <td>0.022153</td>\n",
       "    </tr>\n",
       "    <tr>\n",
       "      <td>5</td>\n",
       "      <td>None</td>\n",
       "      <td>balance</td>\n",
       "      <td>0.080238</td>\n",
       "      <td>0.020574</td>\n",
       "    </tr>\n",
       "    <tr>\n",
       "      <td>6</td>\n",
       "      <td>None</td>\n",
       "      <td>age</td>\n",
       "      <td>0.070169</td>\n",
       "      <td>0.017992</td>\n",
       "    </tr>\n",
       "    <tr>\n",
       "      <td>7</td>\n",
       "      <td>None</td>\n",
       "      <td>housing</td>\n",
       "      <td>0.065196</td>\n",
       "      <td>0.016717</td>\n",
       "    </tr>\n",
       "    <tr>\n",
       "      <td>8</td>\n",
       "      <td>None</td>\n",
       "      <td>pdays</td>\n",
       "      <td>0.055162</td>\n",
       "      <td>0.014144</td>\n",
       "    </tr>\n",
       "    <tr>\n",
       "      <td>9</td>\n",
       "      <td>None</td>\n",
       "      <td>campaign</td>\n",
       "      <td>0.053662</td>\n",
       "      <td>0.013760</td>\n",
       "    </tr>\n",
       "    <tr>\n",
       "      <td>10</td>\n",
       "      <td>None</td>\n",
       "      <td>education</td>\n",
       "      <td>0.024921</td>\n",
       "      <td>0.006390</td>\n",
       "    </tr>\n",
       "    <tr>\n",
       "      <td>11</td>\n",
       "      <td>None</td>\n",
       "      <td>job</td>\n",
       "      <td>0.023866</td>\n",
       "      <td>0.006120</td>\n",
       "    </tr>\n",
       "    <tr>\n",
       "      <td>12</td>\n",
       "      <td>None</td>\n",
       "      <td>marital</td>\n",
       "      <td>0.018290</td>\n",
       "      <td>0.004690</td>\n",
       "    </tr>\n",
       "    <tr>\n",
       "      <td>13</td>\n",
       "      <td>None</td>\n",
       "      <td>previous</td>\n",
       "      <td>0.010864</td>\n",
       "      <td>0.002786</td>\n",
       "    </tr>\n",
       "    <tr>\n",
       "      <td>14</td>\n",
       "      <td>None</td>\n",
       "      <td>loan</td>\n",
       "      <td>0.008976</td>\n",
       "      <td>0.002302</td>\n",
       "    </tr>\n",
       "    <tr>\n",
       "      <td>15</td>\n",
       "      <td>None</td>\n",
       "      <td>default</td>\n",
       "      <td>0.001796</td>\n",
       "      <td>0.000461</td>\n",
       "    </tr>\n",
       "  </tbody>\n",
       "</table>\n",
       "</div>"
      ],
      "text/plain": [
       "   redundantWith featureName  impactNormalized  impactUnnormalized\n",
       "0           None    duration          1.000000            0.256413\n",
       "1           None       month          0.370865            0.095095\n",
       "2           None         day          0.186467            0.047813\n",
       "3           None     contact          0.116615            0.029902\n",
       "4           None    poutcome          0.086397            0.022153\n",
       "5           None     balance          0.080238            0.020574\n",
       "6           None         age          0.070169            0.017992\n",
       "7           None     housing          0.065196            0.016717\n",
       "8           None       pdays          0.055162            0.014144\n",
       "9           None    campaign          0.053662            0.013760\n",
       "10          None   education          0.024921            0.006390\n",
       "11          None         job          0.023866            0.006120\n",
       "12          None     marital          0.018290            0.004690\n",
       "13          None    previous          0.010864            0.002786\n",
       "14          None        loan          0.008976            0.002302\n",
       "15          None     default          0.001796            0.000461"
      ]
     },
     "execution_count": 46,
     "metadata": {},
     "output_type": "execute_result"
    }
   ],
   "source": [
    "#Get Feature Impact\n",
    "feature_impact = model.get_or_request_feature_impact()\n",
    "\n",
    "#Save feature impact in pandas dataframe\n",
    "fi_df = pd.DataFrame(feature_impact)\n",
    "fi_df"
   ]
  },
  {
   "cell_type": "markdown",
   "metadata": {},
   "source": [
    "## Plot Feature Impact\n",
    "\n",
    "\n",
    "Feature impact is calculated using Permutation Importance.  We can see that the most impactful feature is **duration**, followed by **month** and **day**. \n",
    "\n"
   ]
  },
  {
   "cell_type": "code",
   "execution_count": 55,
   "metadata": {},
   "outputs": [
    {
     "data": {
      "text/plain": [
       "<matplotlib.axes._subplots.AxesSubplot at 0x1a28482390>"
      ]
     },
     "execution_count": 55,
     "metadata": {},
     "output_type": "execute_result"
    },
    {
     "data": {
      "image/png": "[encoded data removed]",
      "text/plain": [
       "<Figure size 864x360 with 1 Axes>"
      ]
     },
     "metadata": {
      "needs_background": "light"
     },
     "output_type": "display_data"
    }
   ],
   "source": [
    "fig, ax = plt.subplots(figsize = (12,5))\n",
    "\n",
    "#Plot feature impact\n",
    "sns.barplot(x='impactNormalized', y='featureName', data=fi_df, color='#2D8FE2')"
   ]
  },
  {
   "cell_type": "markdown",
   "metadata": {},
   "source": [
    "## Get Holdout Predictions\n",
    "\n",
    "By default DataRobot does a 5 fold cross validation and 20% holdout.  The holdout data was not used during the training and we can pull these scores to see how our model predicted on new data. "
   ]
  },
  {
   "cell_type": "code",
   "execution_count": 56,
   "metadata": {},
   "outputs": [],
   "source": [
    "training_predictions_job = model.request_training_predictions(dr.enums.DATA_SUBSET.HOLDOUT)\n",
    "training_predictions = training_predictions_job.get_result_when_complete()\n"
   ]
  },
  {
   "cell_type": "markdown",
   "metadata": {},
   "source": [
    "Downlaod to a CSV file."
   ]
  },
  {
   "cell_type": "code",
   "execution_count": 62,
   "metadata": {},
   "outputs": [],
   "source": [
    "training_predictions.download_to_csv('predictions.csv')"
   ]
  },
  {
   "cell_type": "markdown",
   "metadata": {},
   "source": [
    "### Other Analyses to Try\n",
    "\n",
    "You can do a lot programmatically with the API.  You can get confusion matrices, lift charts, word clouds and even create model factories.  Check out the [tutorials on our GitHub](https://github.com/datarobot-community/tutorials-for-data-scientists) page! \n"
   ]
  }
 ],
 "metadata": {
  "kernelspec": {
   "display_name": "Python 3",
   "language": "python",
   "name": "python3"
  },
  "language_info": {
   "codemirror_mode": {
    "name": "ipython",
    "version": 3
   },
   "file_extension": ".py",
   "mimetype": "text/x-python",
   "name": "python",
   "nbconvert_exporter": "python",
   "pygments_lexer": "ipython3",
   "version": "3.7.4"
  }
 },
 "nbformat": 4,
 "nbformat_minor": 2
}
