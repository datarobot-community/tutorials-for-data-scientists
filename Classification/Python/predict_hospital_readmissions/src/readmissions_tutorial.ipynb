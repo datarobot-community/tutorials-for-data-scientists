{
 "cells": [
  {
   "cell_type": "markdown",
   "metadata": {},
   "source": [
    "![title](media/DataRobot.png)"
   ]
  },
  {
   "source": [
    "<a href=\"https://colab.research.google.com/github/datarobot-community/tutorials-for-data-scientists/blob/master/Classification/Python/predict_hospital_readmissions/src/readmissions_tutorial.ipynb\" target=\"_parent\"><img src=\"https://colab.research.google.com/assets/colab-badge.svg\" alt=\"Open In Colab\"/></a>"
   ],
   "cell_type": "markdown",
   "metadata": {}
  },
  {
   "cell_type": "markdown",
   "metadata": {},
   "source": [
    "### DataRobot provides R and Python package to access different functionalities in the API\n",
    "1 - Project   \n",
    "2 - Model             \n",
    "3 - Retraining    \n",
    "4- Predicting\n",
    "\n",
    "Full documentation of the Python package can be found here: https://datarobot-public-api-client.readthedocs-hosted.com/en/\n",
    "\n",
    "The dataset we will be using today, is the well-known \"readmissions dataset\". You can also find it online but it will also be available when you download this notebook."
   ]
  },
  {
   "cell_type": "markdown",
   "metadata": {},
   "source": [
    "## Getting started\n",
    "You can install datarobot using install.packages command from any computer with internet access! "
   ]
  },
  {
   "cell_type": "code",
   "execution_count": null,
   "metadata": {},
   "outputs": [],
   "source": [
    "!pip install datarobot"
   ]
  },
  {
   "cell_type": "markdown",
   "metadata": {},
   "source": [
    "### Loading the libraries"
   ]
  },
  {
   "cell_type": "code",
   "execution_count": null,
   "metadata": {},
   "outputs": [],
   "source": [
    "import pandas as pd\n",
    "import datarobot as dr\n",
    "import matplotlib.pyplot as plt\n",
    "import seaborn as sns"
   ]
  },
  {
   "cell_type": "markdown",
   "metadata": {},
   "source": [
    "### Credentials\n",
    "To access the DataRobot API user need to connect to it. To make sure authorize users are accessing the DataRobot API user need to use their username, password or API token.\n",
    "You also need to ensure your \"API Access\" configuration is ON (please ask your administrator if not).\n",
    "\n",
    "To find your API Token, visit <code>YOUR_API_HOST</code> , log in and follow the instructions below:"
   ]
  },
  {
   "cell_type": "markdown",
   "metadata": {},
   "source": [
    "![title](media/credentials_1.png)"
   ]
  },
  {
   "cell_type": "markdown",
   "metadata": {},
   "source": [
    "![title](media/credentials_2.png)"
   ]
  },
  {
   "cell_type": "markdown",
   "metadata": {},
   "source": [
    "![title](media/credentials_3.png)"
   ]
  },
  {
   "cell_type": "code",
   "execution_count": null,
   "metadata": {},
   "outputs": [],
   "source": [
    "#Make sure you add '/api/v2' at the end of your endpoint.\n",
    "\n",
    "endpoint = \"YOUR_DATAROBOT_HOST\"\n",
    "api_token = \"YOUR_API_KEY\"\n",
    "dr.Client(token=api_token, endpoint=endpoint)"
   ]
  },
  {
   "cell_type": "markdown",
   "metadata": {},
   "source": [
    "### Read the Dataset"
   ]
  },
  {
   "cell_type": "code",
   "execution_count": null,
   "metadata": {},
   "outputs": [],
   "source": [
    "readmissions_data = pd.read_csv(\"https://raw.githubusercontent.com/datarobot-community/tutorials-for-data-scientists/master/Classification/Python/predict_hospital_readmissions/src/data/10k_diabetes_training.csv\")"
   ]
  },
  {
   "cell_type": "code",
   "execution_count": null,
   "metadata": {
    "scrolled": false
   },
   "outputs": [],
   "source": [
    "readmissions_data.head()"
   ]
  },
  {
   "cell_type": "markdown",
   "metadata": {},
   "source": [
    "### Start a DataRobot Project!"
   ]
  },
  {
   "cell_type": "code",
   "execution_count": null,
   "metadata": {},
   "outputs": [],
   "source": [
    "project = dr.Project.start(readmissions_data,            #Pandas Dataframe with data. Could also pass the folder link itself\n",
    "                           project_name = 'readmissions',#Name of the project\n",
    "                           target = 'readmitted',        #Target of the project\n",
    "                           worker_count = -1,            #Amount of workers to use. -1 means all available workers\n",
    "                           autopilot_on = True)          #Run on autopilot (Default value)"
   ]
  },
  {
   "cell_type": "markdown",
   "metadata": {},
   "source": [
    "### Interacting with autopilot"
   ]
  },
  {
   "cell_type": "code",
   "execution_count": null,
   "metadata": {},
   "outputs": [],
   "source": [
    "project.pause_autopilot()"
   ]
  },
  {
   "cell_type": "code",
   "execution_count": null,
   "metadata": {},
   "outputs": [],
   "source": [
    "project.unpause_autopilot()"
   ]
  },
  {
   "cell_type": "code",
   "execution_count": null,
   "metadata": {},
   "outputs": [],
   "source": [
    "project.wait_for_autopilot()"
   ]
  },
  {
   "cell_type": "code",
   "execution_count": null,
   "metadata": {},
   "outputs": [],
   "source": [
    "# More jobs will go in the queue in each stage of autopilot\n",
    "# This gets the current inprogress and queued jobs\n",
    "project.get_model_jobs()"
   ]
  },
  {
   "cell_type": "markdown",
   "metadata": {},
   "source": [
    "### Pick another project"
   ]
  },
  {
   "cell_type": "markdown",
   "metadata": {},
   "source": [
    "### Where to find the project ID?\n",
    "![title](media/model_id.png)"
   ]
  },
  {
   "cell_type": "markdown",
   "metadata": {},
   "source": [
    "### What if I don't want to use my browser"
   ]
  },
  {
   "cell_type": "code",
   "execution_count": null,
   "metadata": {},
   "outputs": [],
   "source": [
    "for p in dr.Project.list()[0:3]:\n",
    "    print(p, p.id)"
   ]
  },
  {
   "cell_type": "code",
   "execution_count": null,
   "metadata": {},
   "outputs": [],
   "source": [
    "# To choose another project\n",
    "try:\n",
    "    another_project = dr.Project.get('YOUR_PROJECT_ID')\n",
    "except:\n",
    "    pass"
   ]
  },
  {
   "cell_type": "markdown",
   "metadata": {},
   "source": [
    "### Take a look at finished models"
   ]
  },
  {
   "cell_type": "code",
   "execution_count": null,
   "metadata": {
    "scrolled": true
   },
   "outputs": [],
   "source": [
    "for model in project.get_models():\n",
    "    print(model)"
   ]
  },
  {
   "cell_type": "code",
   "execution_count": null,
   "metadata": {},
   "outputs": [],
   "source": [
    "#Pick best model\n",
    "best_model = project.get_models()[0]\n",
    "\n",
    "print(best_model)\n",
    "print(best_model.metrics['AUC'])\n",
    "print(best_model.metrics['Gini Norm'])"
   ]
  },
  {
   "cell_type": "code",
   "execution_count": null,
   "metadata": {},
   "outputs": [],
   "source": [
    "#Visualise the ROC Curve\n",
    "roc = best_model.get_roc_curve('crossValidation')\n",
    "roc_df = pd.DataFrame(roc.roc_points)\n",
    "\n",
    "plt.title('Receiver Operating Characteristic')\n",
    "plt.plot(roc_df['false_positive_rate'], roc_df['true_positive_rate'], 'b', label = 'AUC = %0.2f')\n",
    "plt.legend(loc = 'lower right')\n",
    "plt.plot([0,1], [0,1], 'r--')\n",
    "plt.xlim([0,1])\n",
    "plt.ylim([0,1])\n",
    "plt.ylabel('True Positive Rate')\n",
    "plt.xlabel('False Positive Rate')\n",
    "plt.show()"
   ]
  },
  {
   "cell_type": "markdown",
   "metadata": {},
   "source": [
    "### Plotting Feature Impact"
   ]
  },
  {
   "cell_type": "code",
   "execution_count": null,
   "metadata": {},
   "outputs": [],
   "source": [
    "#Get Feature Impact\n",
    "feature_impacts = best_model.get_or_request_feature_impact()\n",
    "\n",
    "#Sort feature impact based on normalised impact\n",
    "feature_impacts.sort(key=lambda x: x['impactNormalized'], reverse=True)\n",
    "\n",
    "#Save feature impact in pandas dataframe\n",
    "fi_df = pd.DataFrame(feature_impacts)"
   ]
  },
  {
   "cell_type": "code",
   "execution_count": null,
   "metadata": {},
   "outputs": [],
   "source": [
    "fig, ax = plt.subplots(figsize = (12,5))\n",
    "\n",
    "#Plot feature impact\n",
    "sns.barplot(x='featureName', y='impactNormalized', data=fi_df[0:5], color='b')"
   ]
  },
  {
   "cell_type": "markdown",
   "metadata": {},
   "source": [
    "### Train on 100% of Data"
   ]
  },
  {
   "cell_type": "code",
   "execution_count": null,
   "metadata": {},
   "outputs": [],
   "source": [
    "project.unlock_holdout()\n",
    "\n",
    "#This command returns the model job id.\n",
    "retrained_best_model_id = best_model.train(sample_pct=100)\n",
    "\n",
    "#Waits for model to finish and gets the actual model\n",
    "retrained_best_model = dr.models.modeljob.wait_for_async_model_creation(project.id, retrained_best_model_id)"
   ]
  },
  {
   "cell_type": "markdown",
   "metadata": {},
   "source": [
    "## Predictions\n",
    "#### Modelling API\n",
    "You can use the modelling API if you use Python or R and there are multiple ways you can interact with it.\n",
    "#### Prediction API\n",
    "Any project can be called with the Prediction API if you have prediction servers. This is a simple REST API. Click on a model in the UI, then \"Deploy Model\" and \"Activate now\". You'll have access to a Python code snippet to help you interact with it. You can also deploy the model through the python API."
   ]
  },
  {
   "cell_type": "markdown",
   "metadata": {},
   "source": [
    "### Using the Modelling API"
   ]
  },
  {
   "cell_type": "code",
   "execution_count": null,
   "metadata": {},
   "outputs": [],
   "source": [
    "test_df = pd.read_csv(\"https://raw.githubusercontent.com/datarobot-community/tutorials-for-data-scientists/master/Classification/Python/predict_hospital_readmissions/src/data/10k_diabetes_test.csv\") #Load testing data\n",
    "\n",
    "prediction_data = project.upload_dataset(test_df)\n",
    "predict_job = retrained_best_model.request_predictions(prediction_data.id)\n",
    "result = predict_job.get_result_when_complete()"
   ]
  },
  {
   "cell_type": "code",
   "execution_count": null,
   "metadata": {},
   "outputs": [],
   "source": []
  }
 ],
 "metadata": {
  "kernelspec": {
   "display_name": "Python 3",
   "language": "python",
   "name": "python3"
  },
  "language_info": {
   "codemirror_mode": {
    "name": "ipython",
    "version": 3
   },
   "file_extension": ".py",
   "mimetype": "text/x-python",
   "name": "python",
   "nbconvert_exporter": "python",
   "pygments_lexer": "ipython3",
   "version": "3.8.5-final"
  }
 },
 "nbformat": 4,
 "nbformat_minor": 2
}