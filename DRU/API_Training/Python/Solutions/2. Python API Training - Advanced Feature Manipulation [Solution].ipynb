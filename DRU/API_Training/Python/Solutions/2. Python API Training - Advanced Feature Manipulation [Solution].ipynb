{
 "cells": [
  {
   "cell_type": "markdown",
   "metadata": {},
   "source": [
    "## 2. Python API Training - Advanced Feature Manipulation [Solution]\n",
    "\n",
    "<b>Author:</b> Thodoris Petropoulos <br>\n",
    "<b>Contributors:</b> Rajiv Shah\n",
    "\n",
    "This is the 2nd exercise to complete in order to finish your `Python API Training for DataRobot` course! This exercise will help you learn how to do advanced feature manipulation to increase model accuracy and make your models more parsimonious by reducing the numbers of features they are using.\n",
    "\n",
    "Here are the actual sections of the notebook alongside time to complete: \n",
    "\n",
    "1. Connect to DataRobot. [3min]<br>\n",
    "2. Retrieve the Project created during the `Feature Selection Curves` exercise. [5min]<br>\n",
    "3. Retrieve FI for the top 5 models trained on the `Informative Features` Feature list. [30min]<br>\n",
    "4. Plot the top 5 features by median FI scores. Then create two lists with top 10 and top 20 features.[15min]\n",
    "5. Run the best non-blender model using 100% of the sample data on the newly created feature lists. [7min]\n",
    "6. Compare the newly trained models. Which one has the highest AUC validation score?. [7min]\n",
    "7. Bonus Question.\n",
    "\n",
    "Each section will have specific instructions so do not worry if things are still blurry!\n",
    "\n",
    "As always, consult:\n",
    "\n",
    "- [API Documentation](https://datarobot-public-api-client.readthedocs-hosted.com)\n",
    "- [Samples](https://github.com/datarobot-community/examples-for-data-scientists)\n",
    "- [Tutorials](https://github.com/datarobot-community/tutorials-for-data-scientists)\n",
    "\n",
    "The last two links should provide you with the snippets you need to complete most of these exercises.\n",
    "\n",
    "<b>Data</b>\n",
    "\n",
    "The dataset we will be using throughout these exercises is the well-known `readmissions dataset`. You can access it or directly download it through DataRobot's public S3 bucket [here](https://s3.amazonaws.com/datarobot_public_datasets/10k_diabetes.csv)."
   ]
  },
  {
   "cell_type": "markdown",
   "metadata": {},
   "source": [
    "### Import Libraries\n",
    "Import libraries here as you start finding out what libraries are needed. The DataRobot package is already included for your convenience."
   ]
  },
  {
   "cell_type": "code",
   "execution_count": 21,
   "metadata": {},
   "outputs": [],
   "source": [
    "import datarobot as dr\n",
    "\n",
    "#Proposed Libraries needed\n",
    "import pandas as pd\n",
    "import time\n",
    "import seaborn as sns\n",
    "from matplotlib import pyplot as plt"
   ]
  },
  {
   "cell_type": "markdown",
   "metadata": {},
   "source": [
    "### 1. Connect to DataRobot [3min]"
   ]
  },
  {
   "cell_type": "code",
   "execution_count": 2,
   "metadata": {},
   "outputs": [
    {
     "data": {
      "text/plain": [
       "<datarobot.rest.RESTClientObject at 0x11c626a20>"
      ]
     },
     "execution_count": 2,
     "metadata": {},
     "output_type": "execute_result"
    }
   ],
   "source": [
    "#Possible solution\n",
    "dr.Client(config_path='../../github/config.yaml')"
   ]
  },
  {
   "cell_type": "markdown",
   "metadata": {},
   "source": [
    "### 2. Retrieve the Project created during the `Feature Selection Curves` exercise. [5min]<br>\n",
    "\n",
    "Retrieve the project you created using the readmissions dataset and save it into a variable called `project`.\n",
    "\n",
    "**Hint 1**: To use a project created in DataRobot you can either list all of the available projects using the Python api or find the ID from the web interface. For example, if you are logged into DataRobot, your browser will be pointing to a link such as this: `https//:YOUR_HOSTNAME/projects/PROJECT_ID/models/MODEL_ID`. Just copy paste the `PROJECT_ID`.\n",
    "\n",
    "**Hint 2**: Check the `datarobot.Project.get` method. That should help you retrieve your DataRobot project."
   ]
  },
  {
   "cell_type": "code",
   "execution_count": 13,
   "metadata": {},
   "outputs": [],
   "source": [
    "#Proposed Solution\n",
    "project = dr.Project.get('YOUR_PROJECT_ID')"
   ]
  },
  {
   "cell_type": "markdown",
   "metadata": {},
   "source": [
    "### 3. Retrieve FI for the top 5 models trained on the `Informative Features` Feature list. [30min]<br>\n",
    "\n",
    "**Instructions**:\n",
    "- Create a list of the top 5 models based on the `validation` score.\n",
    "- Make sure that these models have been trained using the `informative features` list\n"
   ]
  },
  {
   "cell_type": "code",
   "execution_count": 14,
   "metadata": {},
   "outputs": [],
   "source": [
    "#Proposed Solution\n",
    "\n",
    "#Get all models\n",
    "all_models = project.get_models()\n",
    "\n",
    "#Take top 5 models\n",
    "filtered_models = [model for model in all_models if model.featurelist_name == 'Informative Features'][0:5]\n",
    "\n",
    "#Retrieve FI\n",
    "all_impact = pd.DataFrame()\n",
    "for model in filtered_models:\n",
    "    \n",
    "    # This can take a minute (for each)\n",
    "    feature_impact = model.get_or_request_feature_impact(max_wait=600)\n",
    "    \n",
    "    # Ready to be converted to DF\n",
    "    df = pd.DataFrame(feature_impact)\n",
    "    # Track model name and ID for bookkeeping purposes\n",
    "    df['model_type'] = model.model_type\n",
    "    df['model_id'] = model.id\n",
    "    \n",
    "    # By sorting and re-indexing, the new index becomes our 'ranking'\n",
    "    df = df.sort_values(by='impactUnnormalized', ascending=False)\n",
    "    df = df.reset_index(drop=True)\n",
    "    df['rank'] = df.index.values\n",
    "    \n",
    "    # Add to our master list of all models' feature ranks\n",
    "    all_impact = pd.concat([all_impact, df], ignore_index=True)"
   ]
  },
  {
   "cell_type": "markdown",
   "metadata": {},
   "source": [
    "### 4. Plot the top 5 features by median FI scores. Then create two lists with top 10 and top 20 features.[15min]\n",
    "\n",
    "**Instructions**\n",
    "1. Aggregate the results you retrieved from Feature Impact to calculate the top 10 and top 20 features. \n",
    "2. Create two DataRobot feature lists `top_10_aggregated` and `top_20_aggregated`.\n",
    "3. Plot the top 10 features with their FI score.\n",
    "\n",
    "**Hint**: There is some sample code for plotting Feature Impact within [Samples](https://github.com/datarobot-community/examples-for-data-scientists)."
   ]
  },
  {
   "cell_type": "code",
   "execution_count": 25,
   "metadata": {
    "scrolled": false
   },
   "outputs": [
    {
     "data": {
      "text/plain": [
       "<matplotlib.axes._subplots.AxesSubplot at 0x12cb90d68>"
      ]
     },
     "execution_count": 25,
     "metadata": {},
     "output_type": "execute_result"
    },
    {
     "data": {
      "image/png": "[encoded data removed]",
      "text/plain": [
       "<Figure size 864x360 with 1 Axes>"
      ]
     },
     "metadata": {
      "needs_background": "light"
     },
     "output_type": "display_data"
    }
   ],
   "source": [
    "#Save top 10 features\n",
    "top_10_feats = list(all_impact\n",
    "                 .groupby('featureName')\n",
    "                 .median()\n",
    "                 .sort_values('rank')\n",
    "                 .head(10)\n",
    "                 .index\n",
    "                 .values)\n",
    "\n",
    "#Save top 20 features\n",
    "top_20_feats = list(all_impact\n",
    "                 .groupby('featureName')\n",
    "                 .median()\n",
    "                 .sort_values('rank')\n",
    "                 .head(20)\n",
    "                 .index\n",
    "                 .values)\n",
    "\n",
    "top_10_aggregated = project.create_featurelist('top_10_aggregated', features=top_10_feats)\n",
    "top_20_aggregated = project.create_featurelist('top_20_aggregated', features=top_20_feats)\n",
    "\n",
    "#Plot top 5 features\n",
    "temp = all_impact.groupby('featureName').median().sort_values('rank').head(5).reset_index()\n",
    "\n",
    "fig, ax = plt.subplots(figsize = (12,5))                  \n",
    "sns.barplot(x='featureName', y='impactNormalized', data=temp, color='g')"
   ]
  },
  {
   "cell_type": "markdown",
   "metadata": {},
   "source": [
    "We basically bult a 'wisdom of the crowds' process that provides us with the most impactful features based on multiple models. We could also run the same process between projects with different seeds. This can be especially helpful in wide datasets."
   ]
  },
  {
   "cell_type": "markdown",
   "metadata": {},
   "source": [
    "### 5. Run the best non-blender model using 100% of the sample data on the newly created feature lists. [7min]\n",
    "\n",
    "**Hint**: You will first need to unlock project holdout to be able to train the models on 100% of the data.\n",
    "\n",
    "**Hint 2**: Do not forget to wait until your model’s training is complete."
   ]
  },
  {
   "cell_type": "code",
   "execution_count": 18,
   "metadata": {},
   "outputs": [],
   "source": [
    "#Proposed Solution\n",
    "\n",
    "project.unlock_holdout()\n",
    "best_model = filtered_models[0]\n",
    "\n",
    "best_model.train(sample_pct = 100, featurelist_id = top_10_aggregated.id)\n",
    "best_model.train(sample_pct = 100, featurelist_id = top_20_aggregated.id)\n",
    "\n",
    "#Wait for calculations to finish\n",
    "while len(project.get_all_jobs()) > 0:\n",
    "    time.sleep(5)"
   ]
  },
  {
   "cell_type": "markdown",
   "metadata": {},
   "source": [
    "### 6. Compare the newly trained models. Which one has the highest AUC validation score?. [7min]\n",
    "\n",
    "1. Query all of the models.\n",
    "2. Find the models that we need (trained on the specific feature lists.\n",
    "3. Print the accuracy metric for each one of them."
   ]
  },
  {
   "cell_type": "code",
   "execution_count": 19,
   "metadata": {},
   "outputs": [
    {
     "name": "stdout",
     "output_type": "stream",
     "text": [
      "Accuracy with top_20 features: 0.70867\n",
      "Accuracy with top_10 features: 0.6911\n",
      "Accuracy with top_20 features: 0.57185\n",
      "Accuracy with top_10 features: 0.54807\n",
      "Accuracy with top_20 features: 0.54631\n"
     ]
    }
   ],
   "source": [
    "all_models = project.get_models()\n",
    "\n",
    "for model in all_models:\n",
    "    if 'top_10_aggregated' == model.featurelist_name:\n",
    "        print('Accuracy with top_10 features:', model.metrics['AUC']['validation'])\n",
    "        \n",
    "    if 'top_20_aggregated' == model.featurelist_name:\n",
    "        print('Accuracy with top_20 features:', model.metrics['AUC']['validation'])"
   ]
  },
  {
   "cell_type": "markdown",
   "metadata": {},
   "source": [
    "### Verification\n",
    "To verify that you have completed everything correctly, look at the AUC Validation score for the best model when trained on the new featurelists. Is the highest AUC `0.70`?"
   ]
  },
  {
   "cell_type": "markdown",
   "metadata": {},
   "source": [
    "### Bonus Question\n",
    "\n",
    "1. Why is the number of models trained more than 2? Can you guess? \n",
    "2. Combine the result from the Feature Impact exercise with the feature association matrix. What is the average Feature Impact per cluster? Plot the results."
   ]
  },
  {
   "cell_type": "markdown",
   "metadata": {},
   "source": [
    "#### Bonus Question Answer (1)\n",
    "\n",
    "Our best model is an `eXtreme Gradient...` model and it leverages a seperate `Auto-tune....` model. The second model also appears in the leaderboard as a standalone model but it's accuracy is inferior."
   ]
  },
  {
   "cell_type": "markdown",
   "metadata": {},
   "source": [
    "#### Bonus Question Answer (2)"
   ]
  },
  {
   "cell_type": "code",
   "execution_count": 26,
   "metadata": {},
   "outputs": [
    {
     "data": {
      "text/html": [
       "<div>\n",
       "<style scoped>\n",
       "    .dataframe tbody tr th:only-of-type {\n",
       "        vertical-align: middle;\n",
       "    }\n",
       "\n",
       "    .dataframe tbody tr th {\n",
       "        vertical-align: top;\n",
       "    }\n",
       "\n",
       "    .dataframe thead th {\n",
       "        text-align: right;\n",
       "    }\n",
       "</style>\n",
       "<table border=\"1\" class=\"dataframe\">\n",
       "  <thead>\n",
       "    <tr style=\"text-align: right;\">\n",
       "      <th></th>\n",
       "      <th>alphabetic_sort_index</th>\n",
       "      <th>cluster_id</th>\n",
       "      <th>cluster_name</th>\n",
       "      <th>cluster_sort_index</th>\n",
       "      <th>feature</th>\n",
       "      <th>importance_sort_index</th>\n",
       "      <th>strength_sort_index</th>\n",
       "    </tr>\n",
       "  </thead>\n",
       "  <tbody>\n",
       "    <tr>\n",
       "      <th>0</th>\n",
       "      <td>3</td>\n",
       "      <td>1.0</td>\n",
       "      <td>admission_source_id cluster</td>\n",
       "      <td>0</td>\n",
       "      <td>admission_type_id</td>\n",
       "      <td>7</td>\n",
       "      <td>7</td>\n",
       "    </tr>\n",
       "    <tr>\n",
       "      <th>1</th>\n",
       "      <td>2</td>\n",
       "      <td>1.0</td>\n",
       "      <td>admission_source_id cluster</td>\n",
       "      <td>1</td>\n",
       "      <td>admission_source_id</td>\n",
       "      <td>5</td>\n",
       "      <td>5</td>\n",
       "    </tr>\n",
       "    <tr>\n",
       "      <th>2</th>\n",
       "      <td>17</td>\n",
       "      <td>0.0</td>\n",
       "      <td>insulin cluster</td>\n",
       "      <td>2</td>\n",
       "      <td>insulin</td>\n",
       "      <td>14</td>\n",
       "      <td>9</td>\n",
       "    </tr>\n",
       "    <tr>\n",
       "      <th>3</th>\n",
       "      <td>19</td>\n",
       "      <td>0.0</td>\n",
       "      <td>insulin cluster</td>\n",
       "      <td>3</td>\n",
       "      <td>metformin</td>\n",
       "      <td>34</td>\n",
       "      <td>17</td>\n",
       "    </tr>\n",
       "    <tr>\n",
       "      <th>4</th>\n",
       "      <td>7</td>\n",
       "      <td>0.0</td>\n",
       "      <td>insulin cluster</td>\n",
       "      <td>4</td>\n",
       "      <td>diabetesMed</td>\n",
       "      <td>20</td>\n",
       "      <td>4</td>\n",
       "    </tr>\n",
       "  </tbody>\n",
       "</table>\n",
       "</div>"
      ],
      "text/plain": [
       "   alphabetic_sort_index  cluster_id                 cluster_name  \\\n",
       "0                      3         1.0  admission_source_id cluster   \n",
       "1                      2         1.0  admission_source_id cluster   \n",
       "2                     17         0.0              insulin cluster   \n",
       "3                     19         0.0              insulin cluster   \n",
       "4                      7         0.0              insulin cluster   \n",
       "\n",
       "   cluster_sort_index              feature  importance_sort_index  \\\n",
       "0                   0    admission_type_id                      7   \n",
       "1                   1  admission_source_id                      5   \n",
       "2                   2              insulin                     14   \n",
       "3                   3            metformin                     34   \n",
       "4                   4          diabetesMed                     20   \n",
       "\n",
       "   strength_sort_index  \n",
       "0                    7  \n",
       "1                    5  \n",
       "2                    9  \n",
       "3                   17  \n",
       "4                    4  "
      ]
     },
     "execution_count": 26,
     "metadata": {},
     "output_type": "execute_result"
    }
   ],
   "source": [
    "#Retrieve association information\n",
    "associations = project.get_associations(assoc_type='association', metric = 'mutualInfo')\n",
    "\n",
    "#Retrieve clusters information\n",
    "clusters = pd.DataFrame.from_records(associations['features'])\n",
    "clusters.head()"
   ]
  },
  {
   "cell_type": "code",
   "execution_count": 28,
   "metadata": {},
   "outputs": [
    {
     "data": {
      "text/html": [
       "<div>\n",
       "<style scoped>\n",
       "    .dataframe tbody tr th:only-of-type {\n",
       "        vertical-align: middle;\n",
       "    }\n",
       "\n",
       "    .dataframe tbody tr th {\n",
       "        vertical-align: top;\n",
       "    }\n",
       "\n",
       "    .dataframe thead th {\n",
       "        text-align: right;\n",
       "    }\n",
       "</style>\n",
       "<table border=\"1\" class=\"dataframe\">\n",
       "  <thead>\n",
       "    <tr style=\"text-align: right;\">\n",
       "      <th></th>\n",
       "      <th>cluster_id</th>\n",
       "      <th>impactNormalized</th>\n",
       "      <th>impactUnnormalized</th>\n",
       "      <th>rank</th>\n",
       "      <th>alphabetic_sort_index</th>\n",
       "      <th>cluster_sort_index</th>\n",
       "      <th>importance_sort_index</th>\n",
       "      <th>strength_sort_index</th>\n",
       "    </tr>\n",
       "  </thead>\n",
       "  <tbody>\n",
       "    <tr>\n",
       "      <th>0</th>\n",
       "      <td>-1.0</td>\n",
       "      <td>0.116589</td>\n",
       "      <td>0.003454</td>\n",
       "      <td>22.383333</td>\n",
       "      <td>19.210526</td>\n",
       "      <td>24.315789</td>\n",
       "      <td>21.842105</td>\n",
       "      <td>23.842105</td>\n",
       "    </tr>\n",
       "    <tr>\n",
       "      <th>1</th>\n",
       "      <td>0.0</td>\n",
       "      <td>0.033944</td>\n",
       "      <td>0.001136</td>\n",
       "      <td>27.200000</td>\n",
       "      <td>12.000000</td>\n",
       "      <td>3.500000</td>\n",
       "      <td>21.250000</td>\n",
       "      <td>9.000000</td>\n",
       "    </tr>\n",
       "    <tr>\n",
       "      <th>2</th>\n",
       "      <td>1.0</td>\n",
       "      <td>0.341838</td>\n",
       "      <td>0.009510</td>\n",
       "      <td>6.200000</td>\n",
       "      <td>2.500000</td>\n",
       "      <td>0.500000</td>\n",
       "      <td>6.000000</td>\n",
       "      <td>6.000000</td>\n",
       "    </tr>\n",
       "    <tr>\n",
       "      <th>3</th>\n",
       "      <td>2.0</td>\n",
       "      <td>0.319861</td>\n",
       "      <td>0.009377</td>\n",
       "      <td>9.177778</td>\n",
       "      <td>16.222222</td>\n",
       "      <td>10.000000</td>\n",
       "      <td>9.222222</td>\n",
       "      <td>7.222222</td>\n",
       "    </tr>\n",
       "  </tbody>\n",
       "</table>\n",
       "</div>"
      ],
      "text/plain": [
       "   cluster_id  impactNormalized  impactUnnormalized       rank  \\\n",
       "0        -1.0          0.116589            0.003454  22.383333   \n",
       "1         0.0          0.033944            0.001136  27.200000   \n",
       "2         1.0          0.341838            0.009510   6.200000   \n",
       "3         2.0          0.319861            0.009377   9.177778   \n",
       "\n",
       "   alphabetic_sort_index  cluster_sort_index  importance_sort_index  \\\n",
       "0              19.210526           24.315789              21.842105   \n",
       "1              12.000000            3.500000              21.250000   \n",
       "2               2.500000            0.500000               6.000000   \n",
       "3              16.222222           10.000000               9.222222   \n",
       "\n",
       "   strength_sort_index  \n",
       "0            23.842105  \n",
       "1             9.000000  \n",
       "2             6.000000  \n",
       "3             7.222222  "
      ]
     },
     "execution_count": 28,
     "metadata": {},
     "output_type": "execute_result"
    }
   ],
   "source": [
    "#Join Feature Impact with cluster information\n",
    "merged = all_impact.merge(clusters,how = 'left',left_on ='featureName', right_on = 'feature')\n",
    "merged['cluster_id'] = merged['cluster_id'].fillna(-1)\n",
    "\n",
    "#Get average impact per cluster\n",
    "temp = merged.groupby('cluster_id').mean().reset_index()\n",
    "temp.head()"
   ]
  },
  {
   "cell_type": "code",
   "execution_count": 30,
   "metadata": {},
   "outputs": [
    {
     "data": {
      "text/plain": [
       "<matplotlib.axes._subplots.AxesSubplot at 0x12cee8e48>"
      ]
     },
     "execution_count": 30,
     "metadata": {},
     "output_type": "execute_result"
    },
    {
     "data": {
      "image/png": "[encoded data removed]",
      "text/plain": [
       "<Figure size 432x288 with 1 Axes>"
      ]
     },
     "metadata": {
      "needs_background": "light"
     },
     "output_type": "display_data"
    }
   ],
   "source": [
    "#Plot results\n",
    "sns.barplot(x='cluster_id', y='impactNormalized', data=temp, color='g')"
   ]
  },
  {
   "cell_type": "code",
   "execution_count": null,
   "metadata": {},
   "outputs": [],
   "source": []
  }
 ],
 "metadata": {
  "kernelspec": {
   "display_name": "Python 3",
   "language": "python",
   "name": "python3"
  },
  "language_info": {
   "codemirror_mode": {
    "name": "ipython",
    "version": 3
   },
   "file_extension": ".py",
   "mimetype": "text/x-python",
   "name": "python",
   "nbconvert_exporter": "python",
   "pygments_lexer": "ipython3",
   "version": "3.7.3"
  }
 },
 "nbformat": 4,
 "nbformat_minor": 2
}
