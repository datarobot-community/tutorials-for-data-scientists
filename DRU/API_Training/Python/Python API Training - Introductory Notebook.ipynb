{
 "cells": [
  {
   "cell_type": "markdown",
   "metadata": {},
   "source": [
    "## 0. Python API Training - Introductory Notebook\n",
    "\n",
    "<b>Author:</b> Thodoris Petropoulos <br>\n",
    "<b>Contributors:</b> Rajiv Shah\n",
    " \n",
    "Welcome to the `Python API Training for DataRobot` course! This notebook provides you with the basics of how to connect to DataRobot, create a project, and execute simple but useful commands. Pay close attention as after you have finished reading this, there will be a series of exercises that you will have to complete in order to get certified! Of course, we do not expect you to know the DataRobot package by heart. You have three main documentation sources you can consult:\n",
    "\n",
    "- [API Documentation](https://datarobot-public-api-client.readthedocs-hosted.com)\n",
    "- [Samples](https://github.com/datarobot-community/examples-for-data-scientists)\n",
    "- [Tutorials](https://github.com/datarobot-community/tutorials-for-data-scientists)\n",
    "\n",
    "The last two links should provide you with the snippets you need to complete most of these exercises.\n",
    "\n",
    "Here is a high level overview of this notebook: \n",
    "\n",
    "1. Connecting to DataRobot <br>\n",
    "2. Creating a Project <br>\n",
    "3. Creating a Project with custom settings <br>\n",
    "4. Extracting Insights <br>\n",
    "5. Model Deployment<br>\n",
    "\n",
    "<b>Data</b>\n",
    "\n",
    "The dataset we will be using throughout these exercises is the well-known `readmissions dataset`. You can access it or directly download it through DataRobot's public S3 bucket [here](https://s3.amazonaws.com/datarobot_public_datasets/10k_diabetes.csv).\n",
    "\n",
    "<b>Requirements</b>\n",
    "\n",
    "- Python version 3.7.3\n",
    "- DataRobot API version 2.20.0.\n",
    "\n",
    "Small adjustments might be needed depending on the Python version and DataRobot API version you are using."
   ]
  },
  {
   "cell_type": "markdown",
   "metadata": {},
   "source": [
    "### Import Libraries"
   ]
  },
  {
   "cell_type": "code",
   "execution_count": 17,
   "metadata": {},
   "outputs": [],
   "source": [
    "import datarobot as dr\n",
    "import seaborn as sns\n",
    "import pandas as pd\n",
    "import matplotlib.pyplot as plt"
   ]
  },
  {
   "cell_type": "markdown",
   "metadata": {},
   "source": [
    "### 1. Connecting to DataRobot\n",
    "To use Python with DataRobot you first need to establish a connection between your machine and the DataRobot instance. The fastest and safest way to do that is by creating a `.yaml` file with your credentials. This is basically a text file containing two lines:\n",
    "\n",
    "`endpoint: \"YOUR_HOSTNAME\"` <br>\n",
    "`token: \"YOUR_API_TOKEN\"`\n",
    "\n",
    "You can then use the `datarobot.Client` method to connect to DataRobot like below. If you choose not to use a yaml file, this is an example of the command you would use to connect to DataRobot's managed cloud service. (An on-premise customer would have a different endpoint location).\n",
    "\n",
    "`dr.Client(endpoint='https://app.datarobot.com/api/v2', token = 'YOUR_API_TOKEN')`"
   ]
  },
  {
   "cell_type": "code",
   "execution_count": 8,
   "metadata": {},
   "outputs": [
    {
     "data": {
      "text/plain": [
       "<datarobot.rest.RESTClientObject at 0x117e093c8>"
      ]
     },
     "execution_count": 8,
     "metadata": {},
     "output_type": "execute_result"
    }
   ],
   "source": [
    "dr.Client(config_path='../../github/config.yaml')"
   ]
  },
  {
   "cell_type": "markdown",
   "metadata": {},
   "source": [
    "### 2. Creating a Project\n",
    "For Classification, Regression and Multiclass Classification, the process of starting a project (and modeling) is very straightforward. All you have to do is use the `datarobot.Project.start` method.\n",
    "\n",
    "Of course, there are many advanced options that we could have customised but we are going to touch on that later in this script. For now, we are going to use the default settings."
   ]
  },
  {
   "cell_type": "code",
   "execution_count": 3,
   "metadata": {
    "collapsed": true
   },
   "outputs": [
    {
     "name": "stdout",
     "output_type": "stream",
     "text": [
      "In progress: 20, queued: 22 (waited: 0s)\n",
      "In progress: 20, queued: 22 (waited: 2s)\n",
      "In progress: 20, queued: 22 (waited: 4s)\n",
      "In progress: 20, queued: 22 (waited: 6s)\n",
      "In progress: 20, queued: 22 (waited: 9s)\n",
      "In progress: 20, queued: 22 (waited: 12s)\n",
      "In progress: 20, queued: 22 (waited: 17s)\n",
      "In progress: 20, queued: 22 (waited: 25s)\n",
      "In progress: 20, queued: 18 (waited: 39s)\n",
      "In progress: 19, queued: 12 (waited: 61s)\n",
      "In progress: 19, queued: 4 (waited: 82s)\n",
      "In progress: 20, queued: 1 (waited: 103s)\n",
      "In progress: 12, queued: 0 (waited: 125s)\n",
      "In progress: 5, queued: 0 (waited: 146s)\n",
      "In progress: 2, queued: 0 (waited: 167s)\n",
      "In progress: 0, queued: 0 (waited: 188s)\n",
      "In progress: 19, queued: 0 (waited: 209s)\n",
      "In progress: 19, queued: 0 (waited: 230s)\n",
      "In progress: 18, queued: 0 (waited: 251s)\n",
      "In progress: 9, queued: 0 (waited: 272s)\n",
      "In progress: 1, queued: 0 (waited: 293s)\n",
      "In progress: 1, queued: 0 (waited: 314s)\n",
      "In progress: 1, queued: 0 (waited: 335s)\n",
      "In progress: 11, queued: 0 (waited: 356s)\n",
      "In progress: 11, queued: 0 (waited: 377s)\n",
      "In progress: 11, queued: 0 (waited: 398s)\n",
      "In progress: 6, queued: 0 (waited: 420s)\n",
      "In progress: 20, queued: 12 (waited: 441s)\n",
      "In progress: 20, queued: 12 (waited: 463s)\n",
      "In progress: 18, queued: 0 (waited: 484s)\n",
      "In progress: 10, queued: 0 (waited: 506s)\n",
      "In progress: 2, queued: 0 (waited: 527s)\n",
      "In progress: 0, queued: 0 (waited: 548s)\n",
      "In progress: 0, queued: 0 (waited: 570s)\n",
      "In progress: 0, queued: 0 (waited: 592s)\n",
      "In progress: 0, queued: 0 (waited: 612s)\n",
      "In progress: 0, queued: 0 (waited: 633s)\n",
      "In progress: 5, queued: 0 (waited: 654s)\n",
      "In progress: 1, queued: 0 (waited: 675s)\n",
      "In progress: 1, queued: 0 (waited: 695s)\n",
      "In progress: 1, queued: 0 (waited: 716s)\n",
      "In progress: 1, queued: 0 (waited: 737s)\n",
      "In progress: 4, queued: 0 (waited: 758s)\n",
      "In progress: 4, queued: 0 (waited: 778s)\n",
      "In progress: 4, queued: 0 (waited: 799s)\n",
      "In progress: 1, queued: 0 (waited: 820s)\n",
      "In progress: 4, queued: 0 (waited: 841s)\n",
      "In progress: 4, queued: 0 (waited: 862s)\n",
      "In progress: 4, queued: 0 (waited: 883s)\n",
      "In progress: 1, queued: 0 (waited: 904s)\n",
      "In progress: 4, queued: 0 (waited: 926s)\n",
      "In progress: 4, queued: 0 (waited: 947s)\n",
      "In progress: 4, queued: 0 (waited: 968s)\n",
      "In progress: 4, queued: 0 (waited: 988s)\n",
      "In progress: 2, queued: 0 (waited: 1014s)\n",
      "In progress: 2, queued: 0 (waited: 1035s)\n",
      "In progress: 2, queued: 0 (waited: 1055s)\n",
      "In progress: 0, queued: 0 (waited: 1076s)\n",
      "In progress: 0, queued: 0 (waited: 1097s)\n",
      "In progress: 0, queued: 0 (waited: 1118s)\n",
      "In progress: 0, queued: 0 (waited: 1139s)\n",
      "In progress: 0, queued: 0 (waited: 1160s)\n"
     ]
    }
   ],
   "source": [
    "#I can link directly to my data (file, url) or I can also pass a pandas dataframe to the sourcedata variable\n",
    "url_to_data = \"https://s3.amazonaws.com/datarobot_public_datasets/10k_diabetes.csv\" \n",
    "\n",
    "project = dr.Project.start(sourcedata = url_to_data,\n",
    "                           project_name = '00_Introduction',\n",
    "                           target = 'readmitted',\n",
    "                           worker_count = -1)\n",
    "\n",
    "project.wait_for_autopilot()"
   ]
  },
  {
   "cell_type": "markdown",
   "metadata": {},
   "source": [
    "The `wait_for_autopilot` method will force our Python Kernel to wait until DataRobot has finished modeling before executing the next series of commands.\n",
    "\n",
    "The `worker_count` variable defines how many workers is the project going to use when modeling. The value -1 means use all of the available workers."
   ]
  },
  {
   "cell_type": "markdown",
   "metadata": {},
   "source": [
    "### 3. Creating a Project with custom settings\n",
    "\n",
    "Sometimes you will want to start a project using custom settings. More specifically, what if you wanted to:\n",
    "\n",
    "- Start the project with `3-fold` cross validation\n",
    "- Start the project with `AUC` as the optimisation metric\n",
    "\n",
    "To change the optimisation metric, we can just put a custom value in the `metric` variable. When it comes to partitioning, we need to define a partitioning object using the datarobot package. Some of the available partitioning classes are:\n",
    "\n",
    "- `datarobot.StratifiedCV`\n",
    "- `datarobot.RandomCV`\n",
    "- `datarobot.GroupCV`\n",
    "- `datarobot.UserCV`\n",
    "\n",
    "`partitioning = dr.StratifiedCV(holdout_pct = 20, reps = 3)`\n",
    "\n",
    "`c_project=dr.Project.start(sourcedata = url_to_data,\n",
    "                           project_name = '00_Introduction_with_custom_settings',\n",
    "                           target = 'readmitted',\n",
    "                           metric = 'AUC',\n",
    "                           worker_count = 1,\n",
    "                           partitioning_method = partitioning)`"
   ]
  },
  {
   "cell_type": "markdown",
   "metadata": {},
   "source": [
    "### 4. Extracting Insights\n",
    "There are multiple insights that we would want to extract from a finished project in DataRobot:\n",
    "\n",
    "1. Trained models <br>\n",
    "2. Feature Impact<br>\n",
    "3. ROC Curve<br>"
   ]
  },
  {
   "cell_type": "markdown",
   "metadata": {},
   "source": [
    "#### Get Trained Models\n",
    "We can use the `get_models` method to retrieve a list of all the trained DataRobot models. We can then choose the model we want from the list and get access to multiple methods for results/specifics.\n",
    "\n",
    "By default, the models will be ordered based on their validation score. The first model will be the most accurate one."
   ]
  },
  {
   "cell_type": "code",
   "execution_count": 9,
   "metadata": {},
   "outputs": [
    {
     "data": {
      "text/plain": [
       "[Model('Advanced AVG Blender'),\n",
       " Model('ENET Blender'),\n",
       " Model('eXtreme Gradient Boosted Trees Classifier with Early Stopping'),\n",
       " Model('AVG Blender'),\n",
       " Model('ENET Blender'),\n",
       " Model('Elastic-Net Classifier (mixing alpha=0.5 / Binomial Deviance) with Unsupervised Learning Features'),\n",
       " Model('eXtreme Gradient Boosted Trees Classifier with Early Stopping'),\n",
       " Model('Light Gradient Boosting on ElasticNet Predictions '),\n",
       " Model('Elastic-Net Classifier (mixing alpha=0.5 / Binomial Deviance)'),\n",
       " Model('Elastic-Net Classifier (mixing alpha=0.5 / Binomial Deviance)')]"
      ]
     },
     "execution_count": 9,
     "metadata": {},
     "output_type": "execute_result"
    }
   ],
   "source": [
    "project.get_models()[0:10]"
   ]
  },
  {
   "cell_type": "code",
   "execution_count": 16,
   "metadata": {},
   "outputs": [
    {
     "name": "stdout",
     "output_type": "stream",
     "text": [
      "Advanced AVG Blender\n"
     ]
    }
   ],
   "source": [
    "#Get most accurate model\n",
    "most_accurate_model = project.get_models()[0]\n",
    "\n",
    "#Get type of model\n",
    "print(most_accurate_model.model_type)"
   ]
  },
  {
   "cell_type": "markdown",
   "metadata": {},
   "source": [
    "#### Get Feature Impact\n",
    "\n",
    "Using the `get_or_request_feature_impact` method, we will be retrieving feature impact, save it into a pandas dataframe and then plot it."
   ]
  },
  {
   "cell_type": "code",
   "execution_count": 18,
   "metadata": {},
   "outputs": [
    {
     "data": {
      "text/plain": [
       "<matplotlib.axes._subplots.AxesSubplot at 0x12a840f28>"
      ]
     },
     "execution_count": 18,
     "metadata": {},
     "output_type": "execute_result"
    },
    {
     "data": {
      "image/png": "[encoded data removed]",
      "text/plain": [
       "<Figure size 864x360 with 1 Axes>"
      ]
     },
     "metadata": {
      "needs_background": "light"
     },
     "output_type": "display_data"
    }
   ],
   "source": [
    "#Get Feature Impact\n",
    "feature_impact = most_accurate_model.get_or_request_feature_impact()\n",
    "\n",
    "#Save feature impact in pandas dataframe\n",
    "fi_df = pd.DataFrame(feature_impact)\n",
    "\n",
    "fig, ax = plt.subplots(figsize = (12,5))\n",
    "\n",
    "#Plot feature impact\n",
    "sns.barplot(x='featureName', y='impactNormalized', data=fi_df[0:5], color='g')"
   ]
  },
  {
   "cell_type": "markdown",
   "metadata": {},
   "source": [
    "#### Get ROC Curve\n",
    "\n",
    "ROC curve data can be generated for a specific data partition (validation, cross validation, or holdout) or for all the data partitions. Use the <code>get_roc_curve</code> method combined with the partitioning of your choice. You can then plot the data like below."
   ]
  },
  {
   "cell_type": "code",
   "execution_count": 19,
   "metadata": {},
   "outputs": [
    {
     "data": {
      "text/plain": [
       "(0, 1)"
      ]
     },
     "execution_count": 19,
     "metadata": {},
     "output_type": "execute_result"
    },
    {
     "data": {
      "image/png": "[encoded data removed]",
      "text/plain": [
       "<Figure size 576x576 with 1 Axes>"
      ]
     },
     "metadata": {
      "needs_background": "light"
     },
     "output_type": "display_data"
    }
   ],
   "source": [
    "roc = most_accurate_model.get_roc_curve('validation')\n",
    "\n",
    "#Save the result into a pandas dataframe\n",
    "roc_df = pd.DataFrame(roc.roc_points)\n",
    "roc_df.head()\n",
    "\n",
    "dr_roc_green = '#03c75f'\n",
    "white = '#ffffff'\n",
    "dr_purple = '#65147D'\n",
    "dr_dense_green = '#018f4f'\n",
    "dr_dark_blue = '#08233F'\n",
    "\n",
    "fig = plt.figure(figsize=(8, 8))\n",
    "axes = fig.add_subplot(1, 1, 1, facecolor=dr_dark_blue)\n",
    "\n",
    "plt.scatter(roc_df.false_positive_rate, roc_df.true_positive_rate, color=dr_roc_green)\n",
    "plt.plot(roc_df.false_positive_rate, roc_df.true_positive_rate, color=dr_roc_green)\n",
    "plt.plot([0, 1], [0, 1], color=white, alpha=0.25)\n",
    "plt.title('ROC curve')\n",
    "plt.xlabel('False Positive Rate (Fallout)')\n",
    "plt.xlim([0, 1])\n",
    "plt.ylabel('True Positive Rate (Sensitivity)')\n",
    "plt.ylim([0, 1])"
   ]
  },
  {
   "cell_type": "markdown",
   "metadata": {},
   "source": [
    "### Model Deployment\n",
    "If you wish to deploy a model, all you have to do is use the `Deployment.create_from_learning_model` method. You also need to have the prediction server that you want to host this deployment. Available prediction servers can be retrieved using the `PredictionServer.list` method."
   ]
  },
  {
   "cell_type": "code",
   "execution_count": null,
   "metadata": {},
   "outputs": [],
   "source": [
    "prediction_server = dr.PredictionServer.list()[0]\n",
    "\n",
    "deployment = dr.Deployment.create_from_learning_model(\n",
    "    most_accurate_model.id, label='New Deployment', description='A new deployment',\n",
    "    default_prediction_server_id=prediction_server.id)\n",
    "deployment"
   ]
  },
  {
   "cell_type": "markdown",
   "metadata": {},
   "source": [
    "### Model Scoring\n",
    "Now that we have deployed the model let's score using DataRobot's `Batch Prediction API`. Note that there are multiple ways to score data and this is just one of them."
   ]
  },
  {
   "cell_type": "code",
   "execution_count": 14,
   "metadata": {},
   "outputs": [],
   "source": [
    "scoring = pd.read_csv('https://s3.amazonaws.com/datarobot_public_datasets/10k_diabetes_scoring.csv', nrows=100)\n",
    "scoring.to_csv('scoring.csv',index=False)\n",
    "\n",
    "dr.BatchPredictionJob.score_to_file(\n",
    "    deployment.id,\n",
    "    'scoring.csv',\n",
    "    './predicted.csv')"
   ]
  },
  {
   "cell_type": "code",
   "execution_count": null,
   "metadata": {},
   "outputs": [],
   "source": []
  }
 ],
 "metadata": {
  "kernelspec": {
   "display_name": "Python 3",
   "language": "python",
   "name": "python3"
  },
  "language_info": {
   "codemirror_mode": {
    "name": "ipython",
    "version": 3
   },
   "file_extension": ".py",
   "mimetype": "text/x-python",
   "name": "python",
   "nbconvert_exporter": "python",
   "pygments_lexer": "ipython3",
   "version": "3.7.7"
  }
 },
 "nbformat": 4,
 "nbformat_minor": 2
}