{
 "cells": [
  {
   "cell_type": "markdown",
   "metadata": {},
   "source": [
    "### 5. Python API Training - Model Factory [Exercise]\n",
    "\n",
    "<b>Author:</b> Thodoris Petropoulos <br>\n",
    "<b>Contributors:</b> Rajiv Shah\n",
    "\n",
    "This is the 5th exercise to complete in order to finish your `Python API Training for DataRobot` course! This exercise teaches you how to leverage DataRobot in order to create a model factory. That could help you increase model accuracy and shows you the true capabilities of an AutoML platform.\n",
    "\n",
    "Here are the actual sections of the notebook alongside time to complete: \n",
    "\n",
    "1. Connect to DataRobot. [3min]<br>\n",
    "2. Create a Pandas Dataframe with the `readmissions` dataset. [3min]\n",
    "3. Create a DataRobot Project with the `readmissions` dataset explicitly using `quick` autopilot. [5min]\n",
    "4. Split the dataset and run multiple DataRobot Projects based on the `admission_type_id` column explicitly using `quick` autopilot. [25min]\n",
    "5. Check the validation and cross validation scores of the best models for each one of the projects. What do you see? [15min]\n",
    "\n",
    "Each section will have specific instructions so do not worry if things are still blurry!\n",
    "\n",
    "As always, consult:\n",
    "\n",
    "- [API Documentation](https://datarobot-public-api-client.readthedocs-hosted.com)\n",
    "- [Samples](https://github.com/datarobot-community/examples-for-data-scientists)\n",
    "- [Tutorials](https://github.com/datarobot-community/tutorials-for-data-scientists)\n",
    "\n",
    "The last two links should provide you with the snippets you need to complete most of these exercises.\n",
    "\n",
    "<b>Data</b>\n",
    "\n",
    "The dataset we will be using throughout these exercises is the well-known `readmissions dataset`. You can access it or directly download it through DataRobot's public S3 bucket [here](https://s3.amazonaws.com/datarobot_public_datasets/10k_diabetes.csv)."
   ]
  },
  {
   "cell_type": "markdown",
   "metadata": {},
   "source": [
    "### Import Libraries\n",
    "Import libraries here as you start finding out what libraries are needed. The DataRobot package is already included for your convenience."
   ]
  },
  {
   "cell_type": "code",
   "execution_count": null,
   "metadata": {},
   "outputs": [],
   "source": []
  },
  {
   "cell_type": "markdown",
   "metadata": {},
   "source": [
    "### 1. Connect to DataRobot. [3min]<br>"
   ]
  },
  {
   "cell_type": "code",
   "execution_count": null,
   "metadata": {},
   "outputs": [],
   "source": []
  },
  {
   "cell_type": "markdown",
   "metadata": {},
   "source": [
    "### 2. Create a Pandas Dataframe with the `readmissions` dataset. [3min]"
   ]
  },
  {
   "cell_type": "code",
   "execution_count": null,
   "metadata": {},
   "outputs": [],
   "source": []
  },
  {
   "cell_type": "markdown",
   "metadata": {},
   "source": [
    "### 3. Create a DataRobot Project with the `readmissions` dataset explicitly using `quick` autopilot. [5min]\n",
    "\n",
    "\n",
    "**Instructions**:\n",
    "1. Set `readmitted` as the target.\n",
    "2. Start the project using explicitely the `quick` autopilot in the `mode` variable.\n",
    "3. Set `worker_count` variable to -1.\n",
    "4. Wait for Autopilot to complete.\n",
    "\n",
    "**HINT**: You should have already done something similar during the 1st exercise of this course."
   ]
  },
  {
   "cell_type": "code",
   "execution_count": null,
   "metadata": {},
   "outputs": [],
   "source": []
  },
  {
   "cell_type": "markdown",
   "metadata": {},
   "source": [
    "### 4. Split the dataset and run multiple DataRobot Projects based on the `admission_type_id` column explicitly using `quick` autopilot. [25min]\n",
    "\n",
    "**Hint**: Some `admission_type_id` values have less than 20 rows. That is the minimum requirement to start a DataRobot project. You should create an exception and just skip those admission types.\n",
    "\n",
    "**Hint 2**: This will take a long time to execute. You can either execute for only a small part of the different `admission_type_id` values or just move on to the next exercise while this is executing."
   ]
  },
  {
   "cell_type": "code",
   "execution_count": null,
   "metadata": {},
   "outputs": [],
   "source": []
  },
  {
   "cell_type": "markdown",
   "metadata": {},
   "source": [
    "### 5. Check the validation scores of the best models for each one of the projects. What do you see? [15min]\n",
    "\n",
    "- Based on `AUC` score"
   ]
  },
  {
   "cell_type": "code",
   "execution_count": null,
   "metadata": {},
   "outputs": [],
   "source": []
  }
 ],
 "metadata": {
  "kernelspec": {
   "display_name": "Python 3",
   "language": "python",
   "name": "python3"
  },
  "language_info": {
   "codemirror_mode": {
    "name": "ipython",
    "version": 3
   },
   "file_extension": ".py",
   "mimetype": "text/x-python",
   "name": "python",
   "nbconvert_exporter": "python",
   "pygments_lexer": "ipython3",
   "version": "3.7.3"
  }
 },
 "nbformat": 4,
 "nbformat_minor": 2
}
