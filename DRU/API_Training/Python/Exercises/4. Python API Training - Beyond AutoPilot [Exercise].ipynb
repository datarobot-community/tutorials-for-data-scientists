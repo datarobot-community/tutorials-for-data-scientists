{
 "cells": [
  {
   "cell_type": "markdown",
   "metadata": {},
   "source": [
    "### 4. Python API Training - Beyond AutoPilot [Exercise]\n",
    "\n",
    "<b>Author:</b> Thodoris Petropoulos <br>\n",
    "<b>Contributors:</b> Rajiv Shah\n",
    "\n",
    "This is the 4th exercise to complete in order to finish your `Python API Training for DataRobot` course! This exercise will help you learn how to use the repository and advanced tuning to create models that are better than the autopilot.\n",
    "\n",
    "Here are the actual sections of the notebook alongside time to complete: \n",
    "\n",
    "1. Connect to DataRobot. [3min]<br>\n",
    "2. Retrieve the Project created during the `Feature Selection Curves` exercise. [5min]<br>\n",
    "3. Retrieve validation and cross-validation AUC score for best current model. [7min]\n",
    "4. Run models with `Keras` within their `model_type` (64 `sample_pct`). [15min]\n",
    "5. Check whether you created a model with a better validation score. [10min]\n",
    "6. Sort all models by cross validation score. [15min]\n",
    "7. Retrieve a specific model and change a specific hyperparameter.\n",
    "\n",
    "Each section will have specific instructions so do not worry if things are still blurry!\n",
    "\n",
    "As always, consult:\n",
    "\n",
    "- [API Documentation](https://datarobot-public-api-client.readthedocs-hosted.com)\n",
    "- [Samples](https://github.com/datarobot-community/examples-for-data-scientists)\n",
    "- [Tutorials](https://github.com/datarobot-community/tutorials-for-data-scientists)\n",
    "\n",
    "The last two links should provide you with the snippets you need to complete most of these exercises.\n",
    "\n",
    "<b>Data</b>\n",
    "\n",
    "The dataset we will be using throughout these exercises is the well-known `readmissions dataset`. You can access it or directly download it through DataRobot's public S3 bucket [here](https://s3.amazonaws.com/datarobot_public_datasets/10k_diabetes.csv)."
   ]
  },
  {
   "cell_type": "markdown",
   "metadata": {},
   "source": [
    "### Import Libraries\n",
    "Import libraries here as you start finding out what libraries are needed. The DataRobot package is already included for your convenience."
   ]
  },
  {
   "cell_type": "code",
   "execution_count": 1,
   "metadata": {},
   "outputs": [],
   "source": [
    "import datarobot as dr"
   ]
  },
  {
   "cell_type": "markdown",
   "metadata": {},
   "source": [
    "### 1. Connect to DataRobot. [3min]<br>"
   ]
  },
  {
   "cell_type": "code",
   "execution_count": null,
   "metadata": {},
   "outputs": [],
   "source": []
  },
  {
   "cell_type": "markdown",
   "metadata": {},
   "source": [
    "### 2. Retrieve the Project created during the `Feature Selection Curves` exercise. [5min]<br>\n",
    "\n",
    "Retrieve the project you created using the readmissions dataset and save it into a variable called `project`.\n",
    "\n",
    "**Hint**: To use a project created in DataRobot you can either list all of the available projects using the Python api or find the ID from the web interface. For example, if you are logged into DataRobot, your browser will be pointing to a link such as this: `https//:YOUR_HOSTNAME/projects/PROJECT_ID/models/MODEL_ID`. Just copy paste the `PROJECT_ID`."
   ]
  },
  {
   "cell_type": "code",
   "execution_count": null,
   "metadata": {},
   "outputs": [],
   "source": []
  },
  {
   "cell_type": "markdown",
   "metadata": {},
   "source": [
    "### 3. Retrieve validation and cross-validation AUC score for best current model. [7min]"
   ]
  },
  {
   "cell_type": "code",
   "execution_count": null,
   "metadata": {},
   "outputs": [],
   "source": []
  },
  {
   "cell_type": "markdown",
   "metadata": {},
   "source": [
    "### 4. Run models with `Keras` within their `model_type` (64 `sample_pct`). [15min]\n",
    "Run the first 3 available Keras blueprints.\n",
    "\n",
    "**Hint** To see models that are in the repository, call the method `get_blueprints` on the DataRobot Project object."
   ]
  },
  {
   "cell_type": "code",
   "execution_count": null,
   "metadata": {},
   "outputs": [],
   "source": []
  },
  {
   "cell_type": "markdown",
   "metadata": {},
   "source": [
    "### 5. Check whether you created a model with a better validation score. [10min]\n",
    "\n",
    "**Hint**\": You will have to ask DataRobot to send you the latest models again to see which is the current best model."
   ]
  },
  {
   "cell_type": "code",
   "execution_count": null,
   "metadata": {},
   "outputs": [],
   "source": []
  },
  {
   "cell_type": "markdown",
   "metadata": {},
   "source": [
    "### 6. Sort all models by cross validation score. [15min]\n",
    "\n",
    "**Hint 1**: Use the `search_params` variable in the `get_models` method to retrieve the models you are looking for.\n",
    "\n",
    "**Hint 2**: Cross validation will not be calculated for all of the models. You can choose to calculate cross validation for all models or just take crossValidation for the ones that it is available (to save time)."
   ]
  },
  {
   "cell_type": "code",
   "execution_count": null,
   "metadata": {},
   "outputs": [],
   "source": []
  },
  {
   "cell_type": "markdown",
   "metadata": {},
   "source": [
    "### 7. Retrieve a specific model and change a specific hyperparameter.\n",
    "\n",
    "**Instructions**:\n",
    "\n",
    "Find a model with the below characteristics:\n",
    "\n",
    "- Model Type = `eXtreme Gradient Boosted Trees Classifier with Early Stopping`\n",
    "- Feature list = `Informative Features`\n",
    "\n",
    "Tune:\n",
    "\n",
    "- Change `learning_rate` to 0.2\n",
    "\n",
    "**Hint**: There is a script in [Samples](https://github.com/datarobot-community/examples-for-data-scientists) that can help you with hyperparameter tuning."
   ]
  },
  {
   "cell_type": "code",
   "execution_count": null,
   "metadata": {
    "scrolled": true
   },
   "outputs": [],
   "source": []
  }
 ],
 "metadata": {
  "kernelspec": {
   "display_name": "Python 3",
   "language": "python",
   "name": "python3"
  },
  "language_info": {
   "codemirror_mode": {
    "name": "ipython",
    "version": 3
   },
   "file_extension": ".py",
   "mimetype": "text/x-python",
   "name": "python",
   "nbconvert_exporter": "python",
   "pygments_lexer": "ipython3",
   "version": "3.7.3"
  }
 },
 "nbformat": 4,
 "nbformat_minor": 2
}
