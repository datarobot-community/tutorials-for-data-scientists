{
 "cells": [
  {
   "cell_type": "markdown",
   "metadata": {},
   "source": [
    "## 3. Python API Training - Model Documentation [Exercise]\n",
    "\n",
    "<b>Author:</b> Thodoris Petropoulos <br>\n",
    "<b>Contributors:</b> Rajiv Shah\n",
    "\n",
    "This is the 3rd exercise to complete in order to finish your `Python API Training for DataRobot` course! This exercise will help you learn how to retrieve model insights using the Python API. These insights are normaly readily available through the UI but you can also retrieve the raw results.\n",
    "\n",
    "Here are the actual sections of the notebook alongside time to complete: \n",
    "\n",
    "1. Connect to DataRobot. [3min]<br>\n",
    "2. Retrieve the Project created during the `Feature Selection Curves` exercise. [5min]<br>\n",
    "3. Plot Feature Impact for any trained model. Show the model's blueprint.[10min]\n",
    "4. Plot any word cloud results. [10min]\n",
    "5. Plot ROC Curve data for the validation partition. [10min]\n",
    "6. Plot Lift Chart for the validation partition. [10min]\n",
    "7. Compute Prediction explanations for the training dataset. [10min]\n",
    "8. Bonus Question.\n",
    "\n",
    "Each section will have specific instructions so do not worry if things are still blurry!\n",
    "\n",
    "As always, consult:\n",
    "\n",
    "- [API Documentation](https://datarobot-public-api-client.readthedocs-hosted.com)\n",
    "- [Samples](https://github.com/datarobot-community/examples-for-data-scientists)\n",
    "- [Tutorials](https://github.com/datarobot-community/tutorials-for-data-scientists)\n",
    "\n",
    "The last two links should provide you with the snippets you need to complete most of these exercises.\n",
    "\n",
    "<b>Data</b>\n",
    "\n",
    "The dataset we will be using throughout these exercises is the well-known `readmissions dataset`. You can access it or directly download it through DataRobot's public S3 bucket [here](https://s3.amazonaws.com/datarobot_public_datasets/10k_diabetes.csv)."
   ]
  },
  {
   "cell_type": "markdown",
   "metadata": {},
   "source": [
    "### Import Libraries\n",
    "Import libraries here as you start finding out what libraries are needed. The DataRobot package is already included for your convenience."
   ]
  },
  {
   "cell_type": "code",
   "execution_count": 1,
   "metadata": {},
   "outputs": [],
   "source": [
    "import datarobot as dr"
   ]
  },
  {
   "cell_type": "markdown",
   "metadata": {},
   "source": [
    "### 1. Connect to DataRobot [3min]"
   ]
  },
  {
   "cell_type": "code",
   "execution_count": null,
   "metadata": {},
   "outputs": [],
   "source": []
  },
  {
   "cell_type": "markdown",
   "metadata": {},
   "source": [
    "### 2. Retrieve the Project created during the `Feature Selection Curves` exercise. [5min]<br>\n",
    "\n",
    "Retrieve the project you created using the readmissions dataset and save it into a variable called `project`.\n",
    "\n",
    "**Hint**: To use a project created in DataRobot you can either list all of the available projects using the Python api or find the ID from the web interface. For example, if you are logged into DataRobot, your browser will be pointing to a link such as this: `https//:YOUR_HOSTNAME/projects/PROJECT_ID/models/MODEL_ID`. Just copy paste the `PROJECT_ID`."
   ]
  },
  {
   "cell_type": "code",
   "execution_count": null,
   "metadata": {},
   "outputs": [],
   "source": []
  },
  {
   "cell_type": "markdown",
   "metadata": {},
   "source": [
    "### 3. Plot Feature Impact for any trained model. Show the model's blueprint.[10min]\n",
    "\n",
    "**Hint**: You must have the code to solve this from the previous exercise.\n",
    "\n",
    "**Hint 2**: Use the `get_model_blueprint_documents` method for a high level representation of the Blueprint."
   ]
  },
  {
   "cell_type": "code",
   "execution_count": null,
   "metadata": {},
   "outputs": [],
   "source": []
  },
  {
   "cell_type": "markdown",
   "metadata": {},
   "source": [
    "### 4. Plot any word cloud results. [10min]\n",
    "\n",
    "**Hint**: The method to retrieve the word cloud is `get_word_cloud` and it is applied on a DataRobot Model object but not all of the models have a word cloud. Try to create a process that checks whether a model has a word cloud available and return the first available data.\n",
    "\n",
    "**Hint 2**: There is sample script of how to plot word cloud data within [Samples](https://github.com/datarobot-community/examples-for-data-scientists)."
   ]
  },
  {
   "cell_type": "code",
   "execution_count": null,
   "metadata": {},
   "outputs": [],
   "source": []
  },
  {
   "cell_type": "markdown",
   "metadata": {},
   "source": [
    "### 5. Plot ROC Curve data for the validation partition. [10min]\n",
    "\n",
    "**Hint**: After retrieving ROC data, call `pd.DataFrame(roc_data.roc_points)` method to transform the results into something easier to the eye.\n",
    "\n",
    "**Hint 2**: There is a sample script of how to plot the ROC curve within [Samples](https://github.com/datarobot-community/examples-for-data-scientists)."
   ]
  },
  {
   "cell_type": "code",
   "execution_count": null,
   "metadata": {
    "scrolled": false
   },
   "outputs": [],
   "source": []
  },
  {
   "cell_type": "markdown",
   "metadata": {},
   "source": [
    "### 6. Plot Lift Chart for the validation partition. [10min]\n",
    "\n",
    "**Hint**: There is a sample script of how to plot the lift chart within [Samples](https://github.com/datarobot-community/examples-for-data-scientists)."
   ]
  },
  {
   "cell_type": "code",
   "execution_count": null,
   "metadata": {},
   "outputs": [],
   "source": []
  },
  {
   "cell_type": "markdown",
   "metadata": {},
   "source": [
    "### 7. Compute Prediction explanations for the training dataset. [10min]\n",
    "\n",
    "**Hint**: Similarly to before, there is a sample script of how to compute prediction explanations within [Samples](https://github.com/datarobot-community/examples-for-data-scientists)."
   ]
  },
  {
   "cell_type": "code",
   "execution_count": null,
   "metadata": {},
   "outputs": [],
   "source": []
  },
  {
   "cell_type": "markdown",
   "metadata": {},
   "source": [
    "### Verification\n",
    "\n",
    "The first n-gram that is generated should be `hepatic` and the coefficient value should be `0.17032`. Did you have the same result?"
   ]
  },
  {
   "cell_type": "markdown",
   "metadata": {},
   "source": [
    "### 8. Bonus Question\n",
    "\n",
    "DataRobot provided automated model documentation. Try to create and download the `Compliance Documentation` DOCX file."
   ]
  },
  {
   "cell_type": "code",
   "execution_count": null,
   "metadata": {},
   "outputs": [],
   "source": []
  }
 ],
 "metadata": {
  "kernelspec": {
   "display_name": "Python 3",
   "language": "python",
   "name": "python3"
  },
  "language_info": {
   "codemirror_mode": {
    "name": "ipython",
    "version": 3
   },
   "file_extension": ".py",
   "mimetype": "text/x-python",
   "name": "python",
   "nbconvert_exporter": "python",
   "pygments_lexer": "ipython3",
   "version": "3.7.3"
  }
 },
 "nbformat": 4,
 "nbformat_minor": 2
}
