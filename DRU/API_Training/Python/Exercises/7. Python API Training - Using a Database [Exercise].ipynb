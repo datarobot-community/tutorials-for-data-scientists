{
 "cells": [
  {
   "cell_type": "markdown",
   "metadata": {},
   "source": [
    "### 7. Python API Training - Using a Database [Exercise]\n",
    "**Author**: Thodoris Petropoulos\n",
    "\n",
    "**Contributors**: Rajiv Shah\n",
    "\n",
    "This is the 7th exercise to complete in order to finish your Python API Training for DataRobot course! This exercise teaches you how to use a database in order to read datasets in order to train models or dump your predictions in a table.\n",
    "\n",
    "Here are the actual sections of the notebook alongside time to complete:\n",
    "\n",
    "1. Connect to DataRobot. [3min]\n",
    "2. Connect to the SQLite database provided. [5min]\n",
    "3. Load the `readmissions` dataset that needs scoring. [10min]\n",
    "4. Use one of the deployments generated earlier to score the dataset. [15min]\n",
    "5. Writeback predictions in the database\n",
    "\n",
    "As always, consult:\n",
    "\n",
    "[API Documentation](https://datarobot-public-api-client.readthedocs-hosted.com) <br>\n",
    "[Samples](https://github.com/datarobot-community/examples-for-data-scientists) <br>\n",
    "[Tutorials](https://github.com/datarobot-community/tutorials-for-data-scientists)\n",
    "\n",
    "The last two links should provide you with the snippets you need to complete most of these exercises.\n",
    "\n",
    "**Data**\n",
    "\n",
    "The dataset used in the current exercise can be reached via `databases/test_database.db`"
   ]
  },
  {
   "cell_type": "markdown",
   "metadata": {},
   "source": [
    "#### Import Libraries\n",
    "Libraries needed already included"
   ]
  },
  {
   "cell_type": "code",
   "execution_count": null,
   "metadata": {},
   "outputs": [],
   "source": [
    "import sqlite3\n",
    "import pandas as pd\n",
    "import datarobot as dr"
   ]
  },
  {
   "cell_type": "markdown",
   "metadata": {},
   "source": [
    "#### 1. Connect to DataRobot"
   ]
  },
  {
   "cell_type": "code",
   "execution_count": null,
   "metadata": {},
   "outputs": [],
   "source": []
  },
  {
   "cell_type": "markdown",
   "metadata": {},
   "source": [
    "#### 2. Connect to the SQLite database provided. [5min]\n",
    "\n",
    "The SQLite database is under the folder `databases/test_database.db`. To create a connection, use the `sqlite3` library. It becomes apparent that while using Python, it really does not matter where your data is, you could just invoke the appropriate libraries and load your data."
   ]
  },
  {
   "cell_type": "code",
   "execution_count": null,
   "metadata": {},
   "outputs": [],
   "source": []
  },
  {
   "cell_type": "markdown",
   "metadata": {},
   "source": [
    "### 3. Load the readmissions dataset that needs scoring. [10min]\n",
    "The readmissions dataset is saved within the `test_database`.\n",
    "\n",
    "**Instructions** \n",
    "1. Query the first 100 observations.\n",
    "2. Save them into a pandas DataFrame."
   ]
  },
  {
   "cell_type": "code",
   "execution_count": null,
   "metadata": {},
   "outputs": [],
   "source": []
  },
  {
   "cell_type": "markdown",
   "metadata": {},
   "source": [
    "#### 4. Use one of the deployments generated earlier to score the dataset. [15min]\n",
    "**Instructions**\n",
    "1. Navigate to `Deployments` page within DataRobot.\n",
    "2. Find the Python code that allows you to make predictions using the API under `integrations` tab.\n",
    "3. Score the dataset and save the results in a new pandas dataframe."
   ]
  },
  {
   "cell_type": "code",
   "execution_count": null,
   "metadata": {},
   "outputs": [],
   "source": []
  },
  {
   "cell_type": "markdown",
   "metadata": {},
   "source": [
    "#### 5. Writeback predictions in the database\n",
    "\n",
    "**Instructions**\n",
    "1. Join the results table with the original data used to score\n",
    "2. Save the results in a table called `prediction_results` within the `test_database_db`\n",
    "\n",
    "**Hint**: There are Pandas DataFrame methods that allow you to save the results to SQL and also append results if table already exists so keep that in mind."
   ]
  },
  {
   "cell_type": "code",
   "execution_count": null,
   "metadata": {},
   "outputs": [],
   "source": []
  }
 ],
 "metadata": {
  "kernelspec": {
   "display_name": "Python 3",
   "language": "python",
   "name": "python3"
  },
  "language_info": {
   "codemirror_mode": {
    "name": "ipython",
    "version": 3
   },
   "file_extension": ".py",
   "mimetype": "text/x-python",
   "name": "python",
   "nbconvert_exporter": "python",
   "pygments_lexer": "ipython3",
   "version": "3.7.3"
  }
 },
 "nbformat": 4,
 "nbformat_minor": 2
}
